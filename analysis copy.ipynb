{
 "cells": [
  {
   "cell_type": "code",
   "execution_count": 144,
   "metadata": {},
   "outputs": [],
   "source": [
    "import numpy as np\n",
    "import pandas as pd\n",
    "from sklearn.preprocessing import MinMaxScaler\n",
    "from keras.models import Sequential\n",
    "from keras.layers import Dense, LSTM, Dropout\n",
    "import matplotlib.pyplot as plt\n",
    "import seaborn as sns\n",
    "\n",
    "import tensorflow as tf\n",
    "from tensorflow.keras.preprocessing.text import Tokenizer\n",
    "from tensorflow.keras.preprocessing.sequence import pad_sequences\n",
    "from tensorflow.keras.models import Sequential\n",
    "from tensorflow.keras.layers import Embedding, LSTM, Dense, Bidirectional,Dropout, LayerNormalization, Attention, Input\n",
    "from tensorflow.keras.utils import to_categorical\n",
    "from tensorflow.keras.optimizers import Adam\n",
    "\n"
   ]
  },
  {
   "cell_type": "code",
   "execution_count": 145,
   "metadata": {},
   "outputs": [
    {
     "name": "stdout",
     "output_type": "stream",
     "text": [
      "1 Physical GPUs, 1 Logical GPUs\n"
     ]
    }
   ],
   "source": [
    "import os\n",
    "import tensorflow as tf\n",
    "\n",
    "os.environ[\"CUDA_VISIBLE_DEVICES\"] = \"0\" \n",
    "\n",
    "gpus = tf.config.experimental.list_physical_devices('GPU')\n",
    "if gpus:\n",
    "    try:\n",
    "        for gpu in gpus:\n",
    "            tf.config.experimental.set_memory_growth(gpu, True)\n",
    "        logical_gpus = tf.config.experimental.list_logical_devices('GPU')\n",
    "        print(len(gpus), \"Physical GPUs,\", len(logical_gpus), \"Logical GPUs\")\n",
    "    except RuntimeError as e:\n",
    "        print(e)\n",
    "else:\n",
    "    print(\"No GPUs detected by TensorFlow\")"
   ]
  },
  {
   "cell_type": "code",
   "execution_count": 146,
   "metadata": {},
   "outputs": [],
   "source": [
    "company_symbols = [\n",
    "    \"AAPL\", \"MSFT\", \"GOOGL\", \"AMZN\", \"META\", \"NVDA\", \"SSNLF\", \"SONY\", \n",
    "    \"BBY\", \"COST\", \"WMT\", \"INTC\", \"AMD\", \"TXN\", \"QCOM\", \"AVGO\", \"T\", \n",
    "    \"VZ\", \"TMUS\", \"CSCO\", \"CRM\", \"ADBE\", \"ORCL\", \"NOW\", \"V\", \"MA\", \n",
    "    \"PYPL\", \"SQ\", \"TSLA\", \"GM\", \"F\", \"NIO\", \"RIVN\", \"JNJ\", \"PFE\", \n",
    "    \"MRNA\", \"GILD\", \"AMGN\", \"BA\", \"GE\", \"HON\", \"MMM\", \"CAT\", \"XOM\", \n",
    "    \"CVX\", \"NEE\", \"DUK\", \"SLB\"\n",
    "]"
   ]
  },
  {
   "cell_type": "code",
   "execution_count": 147,
   "metadata": {},
   "outputs": [
    {
     "name": "stdout",
     "output_type": "stream",
     "text": [
      "   Unnamed: 0  1. open  2. high    3. low  4. close  5. volume\n",
      "0  2024-06-04  194.635  195.320  193.0342    194.35   47471445\n",
      "1  2024-06-03  192.900  194.990  192.5200    194.03   50080539\n",
      "2  2024-05-31  191.440  192.570  189.9100    192.25   75158277\n",
      "3  2024-05-30  190.760  192.180  190.6300    191.29   49947941\n",
      "4  2024-05-29  189.610  192.247  189.5100    190.29   53068016\n"
     ]
    }
   ],
   "source": [
    "df = pd.read_csv(\"data/AAPL.csv\")\n",
    "print(df.head())"
   ]
  },
  {
   "cell_type": "code",
   "execution_count": 148,
   "metadata": {},
   "outputs": [
    {
     "name": "stdout",
     "output_type": "stream",
     "text": [
      "        Date  AAPL_1. open  AAPL_4. close   MSFT  GOOGL   AMZN  META   NVDA  \\\n",
      "0  941414400         80.00          77.62  93.25    NaN  68.06   NaN  21.75   \n",
      "1  941500800         78.00          80.25  92.75    NaN  69.75   NaN  23.94   \n",
      "2  941587200         81.62          81.50  92.94    NaN  68.19   NaN  26.00   \n",
      "3  941673600         82.06          83.62  92.31    NaN  67.19   NaN  27.75   \n",
      "4  941760000         84.62          88.31  91.81    NaN  64.75   NaN  30.00   \n",
      "\n",
      "   SSNLF    SONY  ...      GE    HON    MMM    CAT    XOM    CVX    NEE  \\\n",
      "0    NaN  158.75  ...  133.63  57.00  95.13  55.31  74.06  90.56  50.19   \n",
      "1    NaN  156.69  ...  129.69  57.62  94.75  55.38  74.37  91.25  50.00   \n",
      "2    NaN  159.00  ...  132.88  56.00  94.63  56.75  74.62  89.94  49.81   \n",
      "3    NaN  159.75  ...  132.50  56.88  94.88  56.75  73.69  89.06  49.44   \n",
      "4    NaN  162.62  ...  133.19  56.00  95.50  55.00  73.00  88.75  49.19   \n",
      "\n",
      "     DUK    SLB  Original_Date  \n",
      "0  56.44  61.25     1999-11-01  \n",
      "1  56.63  62.06     1999-11-02  \n",
      "2  56.81  59.88     1999-11-03  \n",
      "3  56.31  61.00     1999-11-04  \n",
      "4  56.00  60.94     1999-11-05  \n",
      "\n",
      "[5 rows x 51 columns]\n"
     ]
    }
   ],
   "source": [
    "# Load all the data in the company_symbols list\n",
    "data = {}\n",
    "for symbol in company_symbols:\n",
    "    df = pd.read_csv(f\"data/{symbol}.csv\")\n",
    "    if symbol == 'AAPL':\n",
    "        df = df.rename(columns={\"Unnamed: 0\": \"Date\",'1. open':'AAPL_1. open',\"4. close\":\"AAPL_4. close\"})\n",
    "        df = df.drop(columns=['2. high','3. low','5. volume'])\n",
    "    else:\n",
    "        df = df.drop(columns=[\"Unnamed: 0\",f\"2. high\",f\"3. low\",f\"4. close\",f\"5. volume\"])\n",
    "        df = df.rename(columns={\"1. open\":f\"{symbol}\"})\n",
    "    data[symbol] = df\n",
    "\n",
    "combined_df = pd.concat(data.values(), axis=1)\n",
    "combined_df['Date'] = pd.to_datetime(combined_df['Date'])\n",
    "\n",
    "\n",
    "\n",
    "combined_df['Original_Date'] = combined_df['Date']\n",
    "# Convert the datetime to timestamp (number of seconds since 1970-01-01)\n",
    "combined_df['Date'] = (combined_df['Date'] - pd.Timestamp(\"1970-01-01\")) // pd.Timedelta('1s')\n",
    "# Sort the DataFrame by 'Date' in ascending order\n",
    "combined_df = combined_df.sort_values('Date', ascending=True)\n",
    "\n",
    "# Reset the index of the DataFrame\n",
    "combined_df = combined_df.reset_index(drop=True)\n",
    "print(combined_df.head())"
   ]
  },
  {
   "cell_type": "code",
   "execution_count": 149,
   "metadata": {},
   "outputs": [],
   "source": [
    "combined_df.to_csv(\"data/combined1.csv\")"
   ]
  },
  {
   "cell_type": "code",
   "execution_count": 150,
   "metadata": {},
   "outputs": [
    {
     "name": "stdout",
     "output_type": "stream",
     "text": [
      "            Date  AAPL_1. open  AAPL_4. close     MSFT   GOOGL    AMZN  \\\n",
      "6182  1716940800       189.610         190.29  425.690  175.43  181.70   \n",
      "6183  1717027200       190.760         191.29  424.300  175.20  181.31   \n",
      "6184  1717113600       191.440         192.25  416.750  171.86  178.30   \n",
      "6185  1717372800       192.900         194.03  415.525  172.54  177.70   \n",
      "6186  1717459200       194.635         194.35  412.430  173.28  177.64   \n",
      "\n",
      "        META     NVDA    SSNLF   SONY  ...      GE     HON     MMM     CAT  \\\n",
      "6182  474.66  1130.50  40.5999  78.99  ...  166.60  197.83   97.80  345.00   \n",
      "6183  471.67  1146.50  40.5999  80.48  ...  163.48  197.80   97.69  338.47   \n",
      "6184  465.80  1125.20  40.5999  81.75  ...  164.29  200.33   98.06  339.34   \n",
      "6185  470.86  1136.21  40.5999  83.13  ...  166.12  203.82  100.37  340.87   \n",
      "6186  477.00  1157.16  40.5999  85.35  ...  161.00  201.06   99.00  328.71   \n",
      "\n",
      "          XOM     CVX    NEE     DUK     SLB  Original_Date  \n",
      "6182  114.525  158.02  76.77  100.53  46.000     2024-05-29  \n",
      "6183  113.270  156.85  76.87  100.78  45.595     2024-05-30  \n",
      "6184  114.120  158.63  78.29  101.62  45.660     2024-05-31  \n",
      "6185  116.300  161.49  79.50  103.09  46.150     2024-06-03  \n",
      "6186  113.000  155.72  77.61  103.25  43.750     2024-06-04  \n",
      "\n",
      "[5 rows x 51 columns]\n"
     ]
    }
   ],
   "source": [
    "print(combined_df.tail())\n"
   ]
  },
  {
   "cell_type": "code",
   "execution_count": 151,
   "metadata": {},
   "outputs": [
    {
     "data": {
      "text/plain": [
       "Date                0\n",
       "AAPL_1. open        0\n",
       "AAPL_4. close       0\n",
       "MSFT                0\n",
       "GOOGL            1205\n",
       "AMZN                0\n",
       "META             3157\n",
       "NVDA                0\n",
       "SSNLF             811\n",
       "SONY                0\n",
       "BBY                 0\n",
       "COST                0\n",
       "WMT                 0\n",
       "INTC                0\n",
       "AMD                 0\n",
       "TXN                 0\n",
       "QCOM                0\n",
       "AVGO             2455\n",
       "T                   0\n",
       "VZ                  0\n",
       "TMUS             1875\n",
       "CSCO                0\n",
       "CRM              1165\n",
       "ADBE                0\n",
       "ORCL                0\n",
       "NOW              3186\n",
       "V                2106\n",
       "MA               1650\n",
       "PYPL             3952\n",
       "SQ               4039\n",
       "TSLA             2680\n",
       "GM               2780\n",
       "F                   0\n",
       "NIO              4746\n",
       "RIVN             5543\n",
       "JNJ                 0\n",
       "PFE                 0\n",
       "MRNA             4806\n",
       "GILD                0\n",
       "AMGN                0\n",
       "BA                  0\n",
       "GE                  0\n",
       "HON                 0\n",
       "MMM                 0\n",
       "CAT                 0\n",
       "XOM                 0\n",
       "CVX                 0\n",
       "NEE                 0\n",
       "DUK                 0\n",
       "SLB                 0\n",
       "Original_Date       0\n",
       "dtype: int64"
      ]
     },
     "execution_count": 151,
     "metadata": {},
     "output_type": "execute_result"
    }
   ],
   "source": [
    "combined_df.isna().sum()"
   ]
  },
  {
   "cell_type": "code",
   "execution_count": 152,
   "metadata": {},
   "outputs": [
    {
     "data": {
      "text/plain": [
       "Date             0\n",
       "AAPL_1. open     0\n",
       "AAPL_4. close    0\n",
       "MSFT             0\n",
       "AMZN             0\n",
       "NVDA             0\n",
       "SONY             0\n",
       "BBY              0\n",
       "COST             0\n",
       "WMT              0\n",
       "INTC             0\n",
       "AMD              0\n",
       "TXN              0\n",
       "QCOM             0\n",
       "T                0\n",
       "VZ               0\n",
       "CSCO             0\n",
       "ADBE             0\n",
       "ORCL             0\n",
       "F                0\n",
       "JNJ              0\n",
       "PFE              0\n",
       "GILD             0\n",
       "AMGN             0\n",
       "BA               0\n",
       "GE               0\n",
       "HON              0\n",
       "MMM              0\n",
       "CAT              0\n",
       "XOM              0\n",
       "CVX              0\n",
       "NEE              0\n",
       "DUK              0\n",
       "SLB              0\n",
       "Original_Date    0\n",
       "dtype: int64"
      ]
     },
     "execution_count": 152,
     "metadata": {},
     "output_type": "execute_result"
    }
   ],
   "source": [
    "#delete columns with missing values \n",
    "combined_df = combined_df.dropna(axis=1)\n",
    "combined_df.isna().sum()"
   ]
  },
  {
   "cell_type": "code",
   "execution_count": 153,
   "metadata": {},
   "outputs": [],
   "source": [
    "\n",
    "def create_dataset(dataset, target_index, time_step=1):\n",
    "    dataX, dataY = [], []\n",
    "    for i in range(len(dataset)-time_step-1):\n",
    "        a = dataset[i:(i+time_step), :]   # Pick the next 'time_step' elements in the series\n",
    "        dataX.append(a)\n",
    "        dataY.append(dataset[i + time_step, target_index]) # Pick the element at 'time_step' position from current position\n",
    "    return np.array(dataX), np.array(dataY)\n"
   ]
  },
  {
   "cell_type": "code",
   "execution_count": 154,
   "metadata": {},
   "outputs": [],
   "source": [
    "scaler = MinMaxScaler(feature_range=(0,1))\n",
    "cols = list(combined_df.columns)\n",
    "cols.insert(0, cols.pop(cols.index('AAPL_4. close')))\n",
    "combined_df = combined_df[cols]\n",
    "scaled_data = scaler.fit_transform(combined_df.drop(columns=['Original_Date']).values)\n",
    "# 4. Split data into training and testing sets\n",
    "training_size = int(len(scaled_data) * 0.80)\n",
    "test_df = combined_df[training_size:]\n",
    "train_data = scaled_data[0:training_size]\n",
    "test_data = scaled_data[training_size:]\n",
    "\n",
    "\n",
    "target_index = combined_df.columns.get_loc('AAPL_4. close')\n",
    "\n",
    "time_step = 1\n",
    "\n",
    "# Create training and testing datasets\n",
    "x_train, y_train = create_dataset(train_data, target_index, time_step)\n",
    "x_test, y_test = create_dataset(test_data, target_index, time_step)\n",
    "\n"
   ]
  },
  {
   "cell_type": "markdown",
   "metadata": {},
   "source": []
  },
  {
   "cell_type": "code",
   "execution_count": 155,
   "metadata": {},
   "outputs": [],
   "source": [
    "x_train = np.reshape(x_train, (x_train.shape[0], x_train.shape[1], x_train.shape[2]))\n"
   ]
  },
  {
   "cell_type": "code",
   "execution_count": 156,
   "metadata": {},
   "outputs": [],
   "source": [
    "# 5. Build the LSTM model\n",
    "model = Sequential()\n",
    "model.add(LSTM(80, return_sequences=True, input_shape=(time_step, x_train.shape[2])))\n",
    "model.add(LSTM(50, return_sequences=True))\n",
    "model.add(LSTM(40, return_sequences=False))\n",
    "model.add(Dense(25))\n",
    "model.add(Dense(25))\n",
    "model.add(Dense(1))\n",
    "\n",
    "# model = Sequential()\n",
    "# model.add(LSTM(60, return_sequences=True, activation='relu', input_shape=(time_step, x_train.shape[2])))\n",
    "# model.add(Dropout(0.1))\n",
    "# model.add(LSTM(80, return_sequences=True, activation='relu'))\n",
    "# model.add(Dropout(0.1))\n",
    "# model.add(LSTM(100, return_sequences=True, activation='relu'))\n",
    "# model.add(Dropout(0.1))\n",
    "# model.add(LSTM(80, return_sequences=True, activation='relu'))\n",
    "# model.add(Dropout(0.1))\n",
    "# model.add(LSTM(40, return_sequences=True, activation='relu'))\n",
    "# model.add(Dropout(0.1))\n",
    "# model.add(Dense(1))\n",
    "\n",
    "# input_shape = (time_step, x_train.shape[2])\n",
    "# model = Sequential()\n",
    "# model.add(Bidirectional(LSTM(50, return_sequences=True), input_shape=input_shape))\n",
    "# model.add(LayerNormalization())\n",
    "# model.add(Dropout(0.2))\n",
    "\n",
    "# model.add(Bidirectional(LSTM(50, return_sequences=True)))\n",
    "# model.add(LayerNormalization())\n",
    "# model.add(Dropout(0.2))\n",
    "\n",
    "# model.add(Bidirectional(LSTM(50, return_sequences=True)))\n",
    "# model.add(LayerNormalization())\n",
    "# model.add(Dropout(0.2))\n",
    "\n",
    "# model.add(Dense(25, activation='relu'))\n",
    "# model.add(Dropout(0.2))\n",
    "# model.add(Dense(1))\n",
    "\n",
    "# model.compile(optimizer='adam', loss='mean_squared_error')\n",
    "# model.summary()\n"
   ]
  },
  {
   "cell_type": "code",
   "execution_count": 157,
   "metadata": {},
   "outputs": [
    {
     "ename": "RuntimeError",
     "evalue": "You must compile your model before training/testing. Use `model.compile(optimizer, loss)`.",
     "output_type": "error",
     "traceback": [
      "\u001b[1;31m---------------------------------------------------------------------------\u001b[0m",
      "\u001b[1;31mRuntimeError\u001b[0m                              Traceback (most recent call last)",
      "Cell \u001b[1;32mIn[157], line 8\u001b[0m\n\u001b[0;32m      5\u001b[0m early_stop \u001b[38;5;241m=\u001b[39m EarlyStopping(monitor\u001b[38;5;241m=\u001b[39m\u001b[38;5;124m'\u001b[39m\u001b[38;5;124mloss\u001b[39m\u001b[38;5;124m'\u001b[39m, patience\u001b[38;5;241m=\u001b[39m\u001b[38;5;241m10\u001b[39m, restore_best_weights\u001b[38;5;241m=\u001b[39m\u001b[38;5;28;01mTrue\u001b[39;00m)\n\u001b[0;32m      7\u001b[0m \u001b[38;5;66;03m# Fit the model\u001b[39;00m\n\u001b[1;32m----> 8\u001b[0m \u001b[43mmodel\u001b[49m\u001b[38;5;241;43m.\u001b[39;49m\u001b[43mfit\u001b[49m\u001b[43m(\u001b[49m\u001b[43mx_train\u001b[49m\u001b[43m,\u001b[49m\u001b[43m \u001b[49m\u001b[43my_train\u001b[49m\u001b[43m,\u001b[49m\u001b[43m \u001b[49m\u001b[43mbatch_size\u001b[49m\u001b[38;5;241;43m=\u001b[39;49m\u001b[38;5;241;43m32\u001b[39;49m\u001b[43m,\u001b[49m\u001b[43m \u001b[49m\u001b[43mepochs\u001b[49m\u001b[38;5;241;43m=\u001b[39;49m\u001b[38;5;241;43m1000\u001b[39;49m\u001b[43m,\u001b[49m\u001b[43m \u001b[49m\u001b[43mcallbacks\u001b[49m\u001b[38;5;241;43m=\u001b[39;49m\u001b[43m[\u001b[49m\u001b[43mearly_stop\u001b[49m\u001b[43m]\u001b[49m\u001b[43m)\u001b[49m\n",
      "File \u001b[1;32mc:\\Users\\User\\miniconda3\\envs\\tf\\lib\\site-packages\\keras\\utils\\traceback_utils.py:70\u001b[0m, in \u001b[0;36mfilter_traceback.<locals>.error_handler\u001b[1;34m(*args, **kwargs)\u001b[0m\n\u001b[0;32m     67\u001b[0m     filtered_tb \u001b[38;5;241m=\u001b[39m _process_traceback_frames(e\u001b[38;5;241m.\u001b[39m__traceback__)\n\u001b[0;32m     68\u001b[0m     \u001b[38;5;66;03m# To get the full stack trace, call:\u001b[39;00m\n\u001b[0;32m     69\u001b[0m     \u001b[38;5;66;03m# `tf.debugging.disable_traceback_filtering()`\u001b[39;00m\n\u001b[1;32m---> 70\u001b[0m     \u001b[38;5;28;01mraise\u001b[39;00m e\u001b[38;5;241m.\u001b[39mwith_traceback(filtered_tb) \u001b[38;5;28;01mfrom\u001b[39;00m \u001b[38;5;28;01mNone\u001b[39;00m\n\u001b[0;32m     71\u001b[0m \u001b[38;5;28;01mfinally\u001b[39;00m:\n\u001b[0;32m     72\u001b[0m     \u001b[38;5;28;01mdel\u001b[39;00m filtered_tb\n",
      "File \u001b[1;32mc:\\Users\\User\\miniconda3\\envs\\tf\\lib\\site-packages\\keras\\engine\\training.py:3618\u001b[0m, in \u001b[0;36mModel._assert_compile_was_called\u001b[1;34m(self)\u001b[0m\n\u001b[0;32m   3612\u001b[0m \u001b[38;5;28;01mdef\u001b[39;00m \u001b[38;5;21m_assert_compile_was_called\u001b[39m(\u001b[38;5;28mself\u001b[39m):\n\u001b[0;32m   3613\u001b[0m     \u001b[38;5;66;03m# Checks whether `compile` has been called. If it has been called,\u001b[39;00m\n\u001b[0;32m   3614\u001b[0m     \u001b[38;5;66;03m# then the optimizer is set. This is different from whether the\u001b[39;00m\n\u001b[0;32m   3615\u001b[0m     \u001b[38;5;66;03m# model is compiled\u001b[39;00m\n\u001b[0;32m   3616\u001b[0m     \u001b[38;5;66;03m# (i.e. whether the model is built and its inputs/outputs are set).\u001b[39;00m\n\u001b[0;32m   3617\u001b[0m     \u001b[38;5;28;01mif\u001b[39;00m \u001b[38;5;129;01mnot\u001b[39;00m \u001b[38;5;28mself\u001b[39m\u001b[38;5;241m.\u001b[39m_is_compiled:\n\u001b[1;32m-> 3618\u001b[0m         \u001b[38;5;28;01mraise\u001b[39;00m \u001b[38;5;167;01mRuntimeError\u001b[39;00m(\n\u001b[0;32m   3619\u001b[0m             \u001b[38;5;124m\"\u001b[39m\u001b[38;5;124mYou must compile your model before \u001b[39m\u001b[38;5;124m\"\u001b[39m\n\u001b[0;32m   3620\u001b[0m             \u001b[38;5;124m\"\u001b[39m\u001b[38;5;124mtraining/testing. \u001b[39m\u001b[38;5;124m\"\u001b[39m\n\u001b[0;32m   3621\u001b[0m             \u001b[38;5;124m\"\u001b[39m\u001b[38;5;124mUse `model.compile(optimizer, loss)`.\u001b[39m\u001b[38;5;124m\"\u001b[39m\n\u001b[0;32m   3622\u001b[0m         )\n",
      "\u001b[1;31mRuntimeError\u001b[0m: You must compile your model before training/testing. Use `model.compile(optimizer, loss)`."
     ]
    }
   ],
   "source": [
    "# model.fit(x_train, y_train, batch_size=1,steps_per_epoch=500, epochs=50)\n",
    "from keras.callbacks import EarlyStopping\n",
    "\n",
    "# Define the early stopping criteria\n",
    "early_stop = EarlyStopping(monitor='loss', patience=10, restore_best_weights=True)\n",
    "\n",
    "# Fit the model\n",
    "model.fit(x_train, y_train, batch_size=32, epochs=1000, callbacks=[early_stop])"
   ]
  },
  {
   "cell_type": "code",
   "execution_count": null,
   "metadata": {},
   "outputs": [
    {
     "name": "stdout",
     "output_type": "stream",
     "text": [
      "Index(['AAPL_4. close', 'Date', 'AAPL_1. open', 'MSFT', 'AMZN', 'NVDA', 'SONY',\n",
      "       'BBY', 'COST', 'WMT', 'INTC', 'AMD', 'TXN', 'QCOM', 'T', 'VZ', 'CSCO',\n",
      "       'ADBE', 'ORCL', 'F', 'JNJ', 'PFE', 'GILD', 'AMGN', 'BA', 'GE', 'HON',\n",
      "       'MMM', 'CAT', 'XOM', 'CVX', 'NEE', 'DUK', 'SLB', 'Original_Date'],\n",
      "      dtype='object')\n"
     ]
    }
   ],
   "source": [
    "# Print the last date in the training data\n",
    "print(combined_df.columns)"
   ]
  },
  {
   "cell_type": "code",
   "execution_count": null,
   "metadata": {},
   "outputs": [
    {
     "name": "stdout",
     "output_type": "stream",
     "text": [
      "39/39 [==============================] - 1s 5ms/step\n",
      "[239.197127   236.22525371 236.27537526 ... 207.64841333 209.06582041\n",
      " 210.80112255]\n"
     ]
    },
    {
     "data": {
      "image/png": "[encoded data removed]",
      "text/plain": [
       "<Figure size 1400x500 with 1 Axes>"
      ]
     },
     "metadata": {},
     "output_type": "display_data"
    }
   ],
   "source": [
    "predictions = model.predict(x_test)\n",
    "# Convert the 'Date' column back to datetime format for plotting\n",
    "combined_df['Date'] = pd.to_datetime(combined_df['Date'], unit='s')\n",
    "\n",
    "# Then generate your test_dates as before\n",
    "test_dates = pd.date_range(start=test_df['Original_Date'].iloc[0], periods=len(predictions))\n",
    "# Assuming 'data' is your DataFrame and you want to predict the 'Close' price for AAPL\n",
    "target_close_idx = combined_df.columns.get_loc('AAPL_4. close')\n",
    "\n",
    "# 7. Test the model\n",
    "\n",
    "# Prepare an array to inverse transform the predictions\n",
    "dummy_array = np.zeros((len(predictions), scaled_data.shape[1]))\n",
    "dummy_array[:, target_close_idx] = predictions.squeeze()\n",
    "predictions = scaler.inverse_transform(dummy_array)[:, target_close_idx]\n",
    "actual = scaler.inverse_transform(test_data[time_step+1:])\n",
    "print(predictions)\n",
    "\n",
    "# 8. Evaluate the model\n",
    "# You might want to plot the predictions vs. actual values to visually inspect the performance\n",
    "plt.figure(figsize=(14, 5))\n",
    "plt.plot(test_dates,actual[:, target_close_idx], label='Actual Price')\n",
    "plt.plot(test_dates, predictions, label='Predicted Price')\n",
    "plt.xlabel('Time')\n",
    "plt.ylabel('Stock Price')\n",
    "plt.legend() \n",
    "plt.show()"
   ]
  },
  {
   "cell_type": "code",
   "execution_count": null,
   "metadata": {},
   "outputs": [
    {
     "name": "stdout",
     "output_type": "stream",
     "text": [
      "Mean Absolute Error: 30.41925061947559\n",
      "Mean Squared Error: 1185.2415558831358\n",
      "Root Mean Squared Error: 34.427337333623925\n"
     ]
    }
   ],
   "source": [
    "from sklearn.metrics import mean_absolute_error, mean_squared_error, r2_score\n",
    "from math import sqrt\n",
    "\n",
    "# Assuming 'y_test' is your actual values and 'predictions' is your predicted values\n",
    "mae = mean_absolute_error(actual[:, target_close_idx], predictions)\n",
    "mse = mean_squared_error(actual[:, target_close_idx], predictions)\n",
    "rmse = sqrt(mse) # or mse**(0.5)  \n",
    "r2 = r2_score(y_test, predictions)\n",
    "\n",
    "print('Mean Absolute Error:', mae)\n",
    "print('Mean Squared Error:', mse)\n",
    "print('Root Mean Squared Error:', rmse)"
   ]
  }
 ],
 "metadata": {
  "kernelspec": {
   "display_name": "Python 3",
   "language": "python",
   "name": "python3"
  },
  "language_info": {
   "codemirror_mode": {
    "name": "ipython",
    "version": 3
   },
   "file_extension": ".py",
   "mimetype": "text/x-python",
   "name": "python",
   "nbconvert_exporter": "python",
   "pygments_lexer": "ipython3",
   "version": "3.8.19"
  }
 },
 "nbformat": 4,
 "nbformat_minor": 2
}

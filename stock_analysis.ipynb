{
 "cells": [
  {
   "cell_type": "code",
   "execution_count": 1,
   "metadata": {},
   "outputs": [],
   "source": [
    "import numpy as np\n",
    "import pandas as pd\n",
    "from sklearn.preprocessing import MinMaxScaler\n",
    "from keras.models import Sequential\n",
    "from keras.layers import Dense, LSTM, Dropout\n",
    "import matplotlib.pyplot as plt\n",
    "import seaborn as sns\n",
    "\n",
    "import tensorflow as tf\n",
    "from tensorflow.keras.preprocessing.text import Tokenizer\n",
    "from tensorflow.keras.preprocessing.sequence import pad_sequences\n",
    "from tensorflow.keras.models import Sequential\n",
    "from tensorflow.keras.layers import Embedding, LSTM, Dense, Bidirectional,Dropout, LayerNormalization, Attention, Input\n",
    "from tensorflow.keras.utils import to_categorical\n",
    "from tensorflow.keras.optimizers import Adam\n",
    "\n"
   ]
  },
  {
   "cell_type": "markdown",
   "metadata": {},
   "source": [
    "CODE to check if the Tensor Flow can see the GPU"
   ]
  },
  {
   "cell_type": "code",
   "execution_count": 2,
   "metadata": {},
   "outputs": [
    {
     "name": "stdout",
     "output_type": "stream",
     "text": [
      "1 Physical GPUs, 1 Logical GPUs\n"
     ]
    }
   ],
   "source": [
    "import os\n",
    "import tensorflow as tf\n",
    "\n",
    "os.environ[\"CUDA_VISIBLE_DEVICES\"] = \"0\" \n",
    "\n",
    "gpus = tf.config.experimental.list_physical_devices('GPU')\n",
    "if gpus:\n",
    "    try:\n",
    "        for gpu in gpus:\n",
    "            tf.config.experimental.set_memory_growth(gpu, True)\n",
    "        logical_gpus = tf.config.experimental.list_logical_devices('GPU')\n",
    "        print(len(gpus), \"Physical GPUs,\", len(logical_gpus), \"Logical GPUs\")\n",
    "    except RuntimeError as e:\n",
    "        print(e)\n",
    "else:\n",
    "    print(\"No GPUs detected by TensorFlow\")"
   ]
  },
  {
   "cell_type": "markdown",
   "metadata": {},
   "source": [
    "List of Companies used in the dataset:"
   ]
  },
  {
   "cell_type": "code",
   "execution_count": 3,
   "metadata": {},
   "outputs": [],
   "source": [
    "company_symbols = [\n",
    "    \"AAPL\", \"MSFT\", \"GOOGL\", \"AMZN\", \"META\", \"NVDA\", \"SSNLF\", \"SONY\", \n",
    "    \"BBY\", \"COST\", \"WMT\", \"INTC\", \"AMD\", \"TXN\", \"QCOM\", \"AVGO\", \"T\", \n",
    "    \"VZ\", \"TMUS\", \"CSCO\", \"CRM\", \"ADBE\", \"ORCL\", \"NOW\", \"V\", \"MA\", \n",
    "    \"PYPL\", \"SQ\", \"TSLA\", \"GM\", \"F\", \"NIO\", \"RIVN\", \"JNJ\", \"PFE\", \n",
    "    \"MRNA\", \"GILD\", \"AMGN\", \"BA\", \"GE\", \"HON\", \"MMM\", \"CAT\", \"XOM\", \n",
    "    \"CVX\", \"NEE\", \"DUK\", \"SLB\"\n",
    "]"
   ]
  },
  {
   "cell_type": "markdown",
   "metadata": {},
   "source": [
    "Load Data"
   ]
  },
  {
   "cell_type": "code",
   "execution_count": 4,
   "metadata": {},
   "outputs": [
    {
     "name": "stdout",
     "output_type": "stream",
     "text": [
      "   Unnamed: 0  1. open  2. high    3. low  4. close  5. volume\n",
      "0  2024-06-04  194.635  195.320  193.0342    194.35   47471445\n",
      "1  2024-06-03  192.900  194.990  192.5200    194.03   50080539\n",
      "2  2024-05-31  191.440  192.570  189.9100    192.25   75158277\n",
      "3  2024-05-30  190.760  192.180  190.6300    191.29   49947941\n",
      "4  2024-05-29  189.610  192.247  189.5100    190.29   53068016\n"
     ]
    }
   ],
   "source": [
    "df = pd.read_csv(\"data/AAPL.csv\")\n",
    "print(df.head())"
   ]
  },
  {
   "cell_type": "code",
   "execution_count": 5,
   "metadata": {},
   "outputs": [],
   "source": [
    "# Load all the data in the company_symbols list\n",
    "data = {}\n",
    "for symbol in company_symbols:\n",
    "    df = pd.read_csv(f\"data/{symbol}.csv\")\n",
    "    if symbol == 'AAPL':\n",
    "        df = df.rename(columns={\"Unnamed: 0\": \"Date\",'1. open':'AAPL_1. open',\"4. close\":\"AAPL_4. close\"})\n",
    "        df = df.drop(columns=['2. high','3. low','5. volume'])\n",
    "    else:\n",
    "        df = df.drop(columns=[\"Unnamed: 0\",f\"2. high\",f\"3. low\",f\"4. close\",f\"5. volume\"])\n",
    "        df = df.rename(columns={\"1. open\":f\"{symbol}\"})\n",
    "    data[symbol] = df\n",
    "\n"
   ]
  },
  {
   "cell_type": "code",
   "execution_count": 6,
   "metadata": {},
   "outputs": [
    {
     "name": "stdout",
     "output_type": "stream",
     "text": [
      "        Date  AAPL_1. open  AAPL_4. close   MSFT  GOOGL   AMZN  META   NVDA  \\\n",
      "0  941414400         80.00          77.62  93.25    NaN  68.06   NaN  21.75   \n",
      "1  941500800         78.00          80.25  92.75    NaN  69.75   NaN  23.94   \n",
      "2  941587200         81.62          81.50  92.94    NaN  68.19   NaN  26.00   \n",
      "3  941673600         82.06          83.62  92.31    NaN  67.19   NaN  27.75   \n",
      "4  941760000         84.62          88.31  91.81    NaN  64.75   NaN  30.00   \n",
      "\n",
      "   SSNLF    SONY  ...      GE    HON    MMM    CAT    XOM    CVX    NEE  \\\n",
      "0    NaN  158.75  ...  133.63  57.00  95.13  55.31  74.06  90.56  50.19   \n",
      "1    NaN  156.69  ...  129.69  57.62  94.75  55.38  74.37  91.25  50.00   \n",
      "2    NaN  159.00  ...  132.88  56.00  94.63  56.75  74.62  89.94  49.81   \n",
      "3    NaN  159.75  ...  132.50  56.88  94.88  56.75  73.69  89.06  49.44   \n",
      "4    NaN  162.62  ...  133.19  56.00  95.50  55.00  73.00  88.75  49.19   \n",
      "\n",
      "     DUK    SLB  Original_Date  \n",
      "0  56.44  61.25     1999-11-01  \n",
      "1  56.63  62.06     1999-11-02  \n",
      "2  56.81  59.88     1999-11-03  \n",
      "3  56.31  61.00     1999-11-04  \n",
      "4  56.00  60.94     1999-11-05  \n",
      "\n",
      "[5 rows x 51 columns]\n"
     ]
    }
   ],
   "source": [
    "combined_df = pd.concat(data.values(), axis=1)\n",
    "combined_df['Date'] = pd.to_datetime(combined_df['Date'])\n",
    "\n",
    "combined_df['Original_Date'] = combined_df['Date']\n",
    "# Convert the datetime to timestamp (number of seconds since 1970-01-01)\n",
    "combined_df['Date'] = (combined_df['Date'] - pd.Timestamp(\"1970-01-01\")) // pd.Timedelta('1s')\n",
    "# Sort the DataFrame by 'Date' in ascending order\n",
    "combined_df = combined_df.sort_values('Date', ascending=True)\n",
    "\n",
    "# Reset the index of the DataFrame\n",
    "combined_df = combined_df.reset_index(drop=True)\n",
    "print(combined_df.head())"
   ]
  },
  {
   "cell_type": "markdown",
   "metadata": {},
   "source": [
    "VISUALIZING THE DATA"
   ]
  },
  {
   "cell_type": "code",
   "execution_count": 7,
   "metadata": {},
   "outputs": [
    {
     "data": {
      "text/plain": [
       "[<matplotlib.lines.Line2D at 0x2a38f9d53d0>]"
      ]
     },
     "execution_count": 7,
     "metadata": {},
     "output_type": "execute_result"
    },
    {
     "data": {
      "image/png": "[encoded data removed]",
      "text/plain": [
       "<Figure size 640x480 with 1 Axes>"
      ]
     },
     "metadata": {},
     "output_type": "display_data"
    }
   ],
   "source": [
    "plt.title(\"Close Price Visualization\")\n",
    "plt.plot(combined_df['AAPL_4. close'], label='APPLE')"
   ]
  },
  {
   "cell_type": "code",
   "execution_count": 8,
   "metadata": {},
   "outputs": [
    {
     "data": {
      "text/plain": [
       "Text(0.5, 1.0, 'Graph Of Moving Averages Of 100 Days')"
      ]
     },
     "execution_count": 8,
     "metadata": {},
     "output_type": "execute_result"
    },
    {
     "data": {
      "image/png": "[encoded data removed]",
      "text/plain": [
       "<Figure size 1200x600 with 1 Axes>"
      ]
     },
     "metadata": {},
     "output_type": "display_data"
    }
   ],
   "source": [
    "ma100 = combined_df['AAPL_4. close'].rolling(100).mean()\n",
    "plt.figure(figsize = (12,6))\n",
    "plt.plot(ma100, 'r')\n",
    "plt.plot(combined_df['AAPL_4. close'], 'b')\n",
    "plt.title('Graph Of Moving Averages Of 100 Days')"
   ]
  },
  {
   "cell_type": "code",
   "execution_count": 9,
   "metadata": {},
   "outputs": [
    {
     "data": {
      "text/plain": [
       "Text(0.5, 1.0, 'Graph Of Moving Averages Of 200 Days')"
      ]
     },
     "execution_count": 9,
     "metadata": {},
     "output_type": "execute_result"
    },
    {
     "data": {
      "image/png": "[encoded data removed]",
      "text/plain": [
       "<Figure size 1200x600 with 1 Axes>"
      ]
     },
     "metadata": {},
     "output_type": "display_data"
    }
   ],
   "source": [
    "ma200 = combined_df['AAPL_4. close'].rolling(200).mean()\n",
    "plt.figure(figsize = (12,6))\n",
    "plt.plot(ma100, 'r')\n",
    "plt.plot(ma200, 'g')\n",
    "plt.plot(combined_df['AAPL_4. close'], 'b')\n",
    "plt.title('Graph Of Moving Averages Of 200 Days')"
   ]
  },
  {
   "cell_type": "code",
   "execution_count": 10,
   "metadata": {},
   "outputs": [],
   "source": [
    "combined_df.to_csv(\"data/combined1.csv\")"
   ]
  },
  {
   "cell_type": "code",
   "execution_count": 11,
   "metadata": {},
   "outputs": [
    {
     "name": "stdout",
     "output_type": "stream",
     "text": [
      "            Date  AAPL_1. open  AAPL_4. close     MSFT   GOOGL    AMZN  \\\n",
      "6182  1716940800       189.610         190.29  425.690  175.43  181.70   \n",
      "6183  1717027200       190.760         191.29  424.300  175.20  181.31   \n",
      "6184  1717113600       191.440         192.25  416.750  171.86  178.30   \n",
      "6185  1717372800       192.900         194.03  415.525  172.54  177.70   \n",
      "6186  1717459200       194.635         194.35  412.430  173.28  177.64   \n",
      "\n",
      "        META     NVDA    SSNLF   SONY  ...      GE     HON     MMM     CAT  \\\n",
      "6182  474.66  1130.50  40.5999  78.99  ...  166.60  197.83   97.80  345.00   \n",
      "6183  471.67  1146.50  40.5999  80.48  ...  163.48  197.80   97.69  338.47   \n",
      "6184  465.80  1125.20  40.5999  81.75  ...  164.29  200.33   98.06  339.34   \n",
      "6185  470.86  1136.21  40.5999  83.13  ...  166.12  203.82  100.37  340.87   \n",
      "6186  477.00  1157.16  40.5999  85.35  ...  161.00  201.06   99.00  328.71   \n",
      "\n",
      "          XOM     CVX    NEE     DUK     SLB  Original_Date  \n",
      "6182  114.525  158.02  76.77  100.53  46.000     2024-05-29  \n",
      "6183  113.270  156.85  76.87  100.78  45.595     2024-05-30  \n",
      "6184  114.120  158.63  78.29  101.62  45.660     2024-05-31  \n",
      "6185  116.300  161.49  79.50  103.09  46.150     2024-06-03  \n",
      "6186  113.000  155.72  77.61  103.25  43.750     2024-06-04  \n",
      "\n",
      "[5 rows x 51 columns]\n"
     ]
    }
   ],
   "source": [
    "print(combined_df.tail())\n"
   ]
  },
  {
   "cell_type": "markdown",
   "metadata": {},
   "source": [
    "HANDLING MISSING DATA"
   ]
  },
  {
   "cell_type": "code",
   "execution_count": 12,
   "metadata": {},
   "outputs": [
    {
     "data": {
      "text/plain": [
       "Date                0\n",
       "AAPL_1. open        0\n",
       "AAPL_4. close       0\n",
       "MSFT                0\n",
       "GOOGL            1205\n",
       "AMZN                0\n",
       "META             3157\n",
       "NVDA                0\n",
       "SSNLF             811\n",
       "SONY                0\n",
       "BBY                 0\n",
       "COST                0\n",
       "WMT                 0\n",
       "INTC                0\n",
       "AMD                 0\n",
       "TXN                 0\n",
       "QCOM                0\n",
       "AVGO             2455\n",
       "T                   0\n",
       "VZ                  0\n",
       "TMUS             1875\n",
       "CSCO                0\n",
       "CRM              1165\n",
       "ADBE                0\n",
       "ORCL                0\n",
       "NOW              3186\n",
       "V                2106\n",
       "MA               1650\n",
       "PYPL             3952\n",
       "SQ               4039\n",
       "TSLA             2680\n",
       "GM               2780\n",
       "F                   0\n",
       "NIO              4746\n",
       "RIVN             5543\n",
       "JNJ                 0\n",
       "PFE                 0\n",
       "MRNA             4806\n",
       "GILD                0\n",
       "AMGN                0\n",
       "BA                  0\n",
       "GE                  0\n",
       "HON                 0\n",
       "MMM                 0\n",
       "CAT                 0\n",
       "XOM                 0\n",
       "CVX                 0\n",
       "NEE                 0\n",
       "DUK                 0\n",
       "SLB                 0\n",
       "Original_Date       0\n",
       "dtype: int64"
      ]
     },
     "execution_count": 12,
     "metadata": {},
     "output_type": "execute_result"
    }
   ],
   "source": [
    "combined_df.isna().sum()"
   ]
  },
  {
   "cell_type": "code",
   "execution_count": 13,
   "metadata": {},
   "outputs": [
    {
     "data": {
      "text/plain": [
       "Date             0\n",
       "AAPL_1. open     0\n",
       "AAPL_4. close    0\n",
       "MSFT             0\n",
       "AMZN             0\n",
       "NVDA             0\n",
       "SONY             0\n",
       "BBY              0\n",
       "COST             0\n",
       "WMT              0\n",
       "INTC             0\n",
       "AMD              0\n",
       "TXN              0\n",
       "QCOM             0\n",
       "T                0\n",
       "VZ               0\n",
       "CSCO             0\n",
       "ADBE             0\n",
       "ORCL             0\n",
       "F                0\n",
       "JNJ              0\n",
       "PFE              0\n",
       "GILD             0\n",
       "AMGN             0\n",
       "BA               0\n",
       "GE               0\n",
       "HON              0\n",
       "MMM              0\n",
       "CAT              0\n",
       "XOM              0\n",
       "CVX              0\n",
       "NEE              0\n",
       "DUK              0\n",
       "SLB              0\n",
       "Original_Date    0\n",
       "dtype: int64"
      ]
     },
     "execution_count": 13,
     "metadata": {},
     "output_type": "execute_result"
    }
   ],
   "source": [
    "#delete columns with missing values \n",
    "combined_df = combined_df.dropna(axis=1)\n",
    "combined_df.isna().sum()"
   ]
  },
  {
   "cell_type": "markdown",
   "metadata": {},
   "source": [
    "SPLITTING THE DATA INTO TRAINING AND TESTING SETS"
   ]
  },
  {
   "cell_type": "code",
   "execution_count": 14,
   "metadata": {},
   "outputs": [
    {
     "name": "stdout",
     "output_type": "stream",
     "text": [
      "(4949, 35)\n",
      "(1238, 35)\n"
     ]
    }
   ],
   "source": [
    "data = combined_df\n",
    "train = pd.DataFrame(data[0:int(len(data)*0.80)])\n",
    "test = pd.DataFrame(data[int(len(data)*0.80): int(len(data))])\n",
    "\n",
    "print(train.shape)\n",
    "print(test.shape)"
   ]
  },
  {
   "cell_type": "code",
   "execution_count": 15,
   "metadata": {},
   "outputs": [],
   "source": [
    "train_close = train[['AAPL_4. close']].values\n",
    "test_close = test[['AAPL_4. close']].values"
   ]
  },
  {
   "cell_type": "code",
   "execution_count": 16,
   "metadata": {},
   "outputs": [
    {
     "data": {
      "text/plain": [
       "array([[0.09361665],\n",
       "       [0.09743389],\n",
       "       [0.09924816],\n",
       "       ...,\n",
       "       [0.27349125],\n",
       "       [0.27520392],\n",
       "       [0.27764231]])"
      ]
     },
     "execution_count": 16,
     "metadata": {},
     "output_type": "execute_result"
    }
   ],
   "source": [
    "scaler = MinMaxScaler(feature_range=(0,1))\n",
    "scaler.fit(train_close)\n",
    "data_training_array = scaler.fit_transform(train_close)\n",
    "data_training_array\n"
   ]
  },
  {
   "cell_type": "code",
   "execution_count": 17,
   "metadata": {},
   "outputs": [],
   "source": [
    "x_train = []\n",
    "y_train = [] \n",
    "\n",
    "for i in range(100, data_training_array.shape[0]):\n",
    "    x_train.append(data_training_array[i-100: i])\n",
    "    y_train.append(data_training_array[i, 0])\n",
    "\n",
    "x_train, y_train = np.array(x_train), np.array(y_train) "
   ]
  },
  {
   "cell_type": "markdown",
   "metadata": {},
   "source": []
  },
  {
   "cell_type": "code",
   "execution_count": 18,
   "metadata": {},
   "outputs": [
    {
     "data": {
      "text/plain": [
       "(4849, 100, 1)"
      ]
     },
     "execution_count": 18,
     "metadata": {},
     "output_type": "execute_result"
    }
   ],
   "source": [
    "x_train.shape\n"
   ]
  },
  {
   "cell_type": "markdown",
   "metadata": {},
   "source": [
    "TRAINING THE MODEL"
   ]
  },
  {
   "cell_type": "markdown",
   "metadata": {},
   "source": [
    "FIRST MODEL"
   ]
  },
  {
   "cell_type": "code",
   "execution_count": 19,
   "metadata": {},
   "outputs": [],
   "source": [
    "# 5. Build the LSTM model\n",
    "input_shape = (x_train.shape[1], 1)\n",
    "\n",
    "model = Sequential()\n",
    "model.add(LSTM(80, return_sequences=True, input_shape=input_shape))\n",
    "model.add(LSTM(50, return_sequences=True))\n",
    "model.add(LSTM(40, return_sequences=False))\n",
    "model.add(Dense(25))\n",
    "model.add(Dense(25))\n",
    "model.add(Dense(1))\n"
   ]
  },
  {
   "cell_type": "markdown",
   "metadata": {},
   "source": [
    "SECOND MODEL"
   ]
  },
  {
   "cell_type": "code",
   "execution_count": 20,
   "metadata": {},
   "outputs": [],
   "source": [
    "model2 = Sequential()\n",
    "\n",
    "model2.add(LSTM(60, return_sequences=True, activation='tanh', input_shape=input_shape))\n",
    "model2.add(Dropout(0.1))\n",
    "\n",
    "model2.add(LSTM(80, return_sequences=True, activation='tanh'))\n",
    "model2.add(Dropout(0.1))\n",
    "\n",
    "model2.add(LSTM(100, return_sequences=True, activation='tanh'))\n",
    "model2.add(Dropout(0.1))\n",
    "\n",
    "model2.add(LSTM(80, return_sequences=True, activation='tanh'))\n",
    "model2.add(Dropout(0.1))\n",
    "\n",
    "model2.add(LSTM(40, return_sequences=True, activation='tanh'))\n",
    "model2.add(Dropout(0.1))\n",
    "\n",
    "model2.add(Dense(1))\n"
   ]
  },
  {
   "cell_type": "code",
   "execution_count": 21,
   "metadata": {},
   "outputs": [],
   "source": [
    "\n",
    "model3 = Sequential()\n",
    "model3.add(LSTM(units = 50, activation = 'tanh', return_sequences=True\n",
    "              ,input_shape = (x_train.shape[1], 1)))\n",
    "model3.add(Dropout(0.2))\n",
    "\n",
    "\n",
    "model3.add(LSTM(units = 60, activation = 'tanh', return_sequences=True))\n",
    "model3.add(Dropout(0.3))\n",
    "\n",
    "\n",
    "model3.add(LSTM(units = 80, activation = 'tanh', return_sequences=True))\n",
    "model3.add(Dropout(0.4))\n",
    "\n",
    "\n",
    "model3.add(LSTM(units = 120, activation = 'tanh'))\n",
    "model3.add(Dropout(0.5))\n",
    "\n",
    "model3.add(Dense(units = 1))\n"
   ]
  },
  {
   "cell_type": "code",
   "execution_count": 22,
   "metadata": {},
   "outputs": [],
   "source": [
    "model4 = Sequential()\n",
    "model4.add(Bidirectional(LSTM(50, return_sequences=True), input_shape=input_shape))\n",
    "model4.add(LayerNormalization())\n",
    "model4.add(Dropout(0.2))\n",
    "\n",
    "model4.add(Bidirectional(LSTM(50, return_sequences=True)))\n",
    "model4.add(LayerNormalization())\n",
    "model4.add(Dropout(0.2))\n",
    "\n",
    "model4.add(Bidirectional(LSTM(50, return_sequences=True)))\n",
    "model4.add(LayerNormalization())\n",
    "model4.add(Dropout(0.2))\n",
    "\n",
    "model4.add(Dense(25, activation='tanh'))\n",
    "model4.add(Dropout(0.2))\n",
    "model4.add(Dense(1))\n"
   ]
  },
  {
   "cell_type": "code",
   "execution_count": 23,
   "metadata": {},
   "outputs": [
    {
     "name": "stdout",
     "output_type": "stream",
     "text": [
      "Model: \"sequential\"\n",
      "_________________________________________________________________\n",
      " Layer (type)                Output Shape              Param #   \n",
      "=================================================================\n",
      " lstm (LSTM)                 (None, 100, 80)           26240     \n",
      "                                                                 \n",
      " lstm_1 (LSTM)               (None, 100, 50)           26200     \n",
      "                                                                 \n",
      " lstm_2 (LSTM)               (None, 40)                14560     \n",
      "                                                                 \n",
      " dense (Dense)               (None, 25)                1025      \n",
      "                                                                 \n",
      " dense_1 (Dense)             (None, 25)                650       \n",
      "                                                                 \n",
      " dense_2 (Dense)             (None, 1)                 26        \n",
      "                                                                 \n",
      "=================================================================\n",
      "Total params: 68,701\n",
      "Trainable params: 68,701\n",
      "Non-trainable params: 0\n",
      "_________________________________________________________________\n"
     ]
    }
   ],
   "source": [
    "model.compile(optimizer='adam', loss='mean_squared_error',metrics = ['MAE'])\n",
    "model.summary()"
   ]
  },
  {
   "cell_type": "code",
   "execution_count": 24,
   "metadata": {},
   "outputs": [
    {
     "name": "stdout",
     "output_type": "stream",
     "text": [
      "Model: \"sequential_1\"\n",
      "_________________________________________________________________\n",
      " Layer (type)                Output Shape              Param #   \n",
      "=================================================================\n",
      " lstm_3 (LSTM)               (None, 100, 60)           14880     \n",
      "                                                                 \n",
      " dropout (Dropout)           (None, 100, 60)           0         \n",
      "                                                                 \n",
      " lstm_4 (LSTM)               (None, 100, 80)           45120     \n",
      "                                                                 \n",
      " dropout_1 (Dropout)         (None, 100, 80)           0         \n",
      "                                                                 \n",
      " lstm_5 (LSTM)               (None, 100, 100)          72400     \n",
      "                                                                 \n",
      " dropout_2 (Dropout)         (None, 100, 100)          0         \n",
      "                                                                 \n",
      " lstm_6 (LSTM)               (None, 100, 80)           57920     \n",
      "                                                                 \n",
      " dropout_3 (Dropout)         (None, 100, 80)           0         \n",
      "                                                                 \n",
      " lstm_7 (LSTM)               (None, 100, 40)           19360     \n",
      "                                                                 \n",
      " dropout_4 (Dropout)         (None, 100, 40)           0         \n",
      "                                                                 \n",
      " dense_3 (Dense)             (None, 100, 1)            41        \n",
      "                                                                 \n",
      "=================================================================\n",
      "Total params: 209,721\n",
      "Trainable params: 209,721\n",
      "Non-trainable params: 0\n",
      "_________________________________________________________________\n"
     ]
    }
   ],
   "source": [
    "model2.compile(optimizer='adam', loss='mean_squared_error',metrics = ['MAE'])\n",
    "model2.summary()"
   ]
  },
  {
   "cell_type": "code",
   "execution_count": 25,
   "metadata": {},
   "outputs": [
    {
     "name": "stdout",
     "output_type": "stream",
     "text": [
      "Model: \"sequential_2\"\n",
      "_________________________________________________________________\n",
      " Layer (type)                Output Shape              Param #   \n",
      "=================================================================\n",
      " lstm_8 (LSTM)               (None, 100, 50)           10400     \n",
      "                                                                 \n",
      " dropout_5 (Dropout)         (None, 100, 50)           0         \n",
      "                                                                 \n",
      " lstm_9 (LSTM)               (None, 100, 60)           26640     \n",
      "                                                                 \n",
      " dropout_6 (Dropout)         (None, 100, 60)           0         \n",
      "                                                                 \n",
      " lstm_10 (LSTM)              (None, 100, 80)           45120     \n",
      "                                                                 \n",
      " dropout_7 (Dropout)         (None, 100, 80)           0         \n",
      "                                                                 \n",
      " lstm_11 (LSTM)              (None, 120)               96480     \n",
      "                                                                 \n",
      " dropout_8 (Dropout)         (None, 120)               0         \n",
      "                                                                 \n",
      " dense_4 (Dense)             (None, 1)                 121       \n",
      "                                                                 \n",
      "=================================================================\n",
      "Total params: 178,761\n",
      "Trainable params: 178,761\n",
      "Non-trainable params: 0\n",
      "_________________________________________________________________\n"
     ]
    }
   ],
   "source": [
    "model3.compile(optimizer='adam', loss='mean_squared_error',metrics = ['MAE'])\n",
    "model3.summary()"
   ]
  },
  {
   "cell_type": "code",
   "execution_count": 26,
   "metadata": {},
   "outputs": [
    {
     "name": "stdout",
     "output_type": "stream",
     "text": [
      "Model: \"sequential_3\"\n",
      "_________________________________________________________________\n",
      " Layer (type)                Output Shape              Param #   \n",
      "=================================================================\n",
      " bidirectional (Bidirectiona  (None, 100, 100)         20800     \n",
      " l)                                                              \n",
      "                                                                 \n",
      " layer_normalization (LayerN  (None, 100, 100)         200       \n",
      " ormalization)                                                   \n",
      "                                                                 \n",
      " dropout_9 (Dropout)         (None, 100, 100)          0         \n",
      "                                                                 \n",
      " bidirectional_1 (Bidirectio  (None, 100, 100)         60400     \n",
      " nal)                                                            \n",
      "                                                                 \n",
      " layer_normalization_1 (Laye  (None, 100, 100)         200       \n",
      " rNormalization)                                                 \n",
      "                                                                 \n",
      " dropout_10 (Dropout)        (None, 100, 100)          0         \n",
      "                                                                 \n",
      " bidirectional_2 (Bidirectio  (None, 100, 100)         60400     \n",
      " nal)                                                            \n",
      "                                                                 \n",
      " layer_normalization_2 (Laye  (None, 100, 100)         200       \n",
      " rNormalization)                                                 \n",
      "                                                                 \n",
      " dropout_11 (Dropout)        (None, 100, 100)          0         \n",
      "                                                                 \n",
      " dense_5 (Dense)             (None, 100, 25)           2525      \n",
      "                                                                 \n",
      " dropout_12 (Dropout)        (None, 100, 25)           0         \n",
      "                                                                 \n",
      " dense_6 (Dense)             (None, 100, 1)            26        \n",
      "                                                                 \n",
      "=================================================================\n",
      "Total params: 144,751\n",
      "Trainable params: 144,751\n",
      "Non-trainable params: 0\n",
      "_________________________________________________________________\n"
     ]
    }
   ],
   "source": [
    "model4.compile(optimizer='adam', loss='mean_squared_error',metrics = ['MAE'])\n",
    "model4.summary()"
   ]
  },
  {
   "cell_type": "code",
   "execution_count": 27,
   "metadata": {},
   "outputs": [
    {
     "name": "stdout",
     "output_type": "stream",
     "text": [
      "Epoch 1/1000\n",
      "152/152 [==============================] - 12s 35ms/step - loss: 0.0042 - MAE: 0.0270\n",
      "Epoch 2/1000\n",
      "152/152 [==============================] - 6s 41ms/step - loss: 0.0014 - MAE: 0.0190\n",
      "Epoch 3/1000\n",
      "152/152 [==============================] - 5s 36ms/step - loss: 0.0010 - MAE: 0.0151\n",
      "Epoch 4/1000\n",
      "152/152 [==============================] - 5s 34ms/step - loss: 7.8432e-04 - MAE: 0.0119\n",
      "Epoch 5/1000\n",
      "152/152 [==============================] - 5s 35ms/step - loss: 7.7670e-04 - MAE: 0.0131\n",
      "Epoch 6/1000\n",
      "152/152 [==============================] - 5s 35ms/step - loss: 7.1060e-04 - MAE: 0.0129\n",
      "Epoch 7/1000\n",
      "152/152 [==============================] - 5s 34ms/step - loss: 6.0853e-04 - MAE: 0.0127\n",
      "Epoch 8/1000\n",
      "152/152 [==============================] - 5s 36ms/step - loss: 5.3908e-04 - MAE: 0.0117\n",
      "Epoch 9/1000\n",
      "152/152 [==============================] - 5s 35ms/step - loss: 4.4855e-04 - MAE: 0.0099\n",
      "Epoch 10/1000\n",
      "152/152 [==============================] - 5s 35ms/step - loss: 4.1521e-04 - MAE: 0.0096\n",
      "Epoch 11/1000\n",
      "152/152 [==============================] - 5s 35ms/step - loss: 3.6099e-04 - MAE: 0.0085\n",
      "Epoch 12/1000\n",
      "152/152 [==============================] - 5s 36ms/step - loss: 3.7538e-04 - MAE: 0.0094\n",
      "Epoch 13/1000\n",
      "152/152 [==============================] - 5s 36ms/step - loss: 4.4322e-04 - MAE: 0.0106\n",
      "Epoch 14/1000\n",
      "152/152 [==============================] - 5s 35ms/step - loss: 2.9801e-04 - MAE: 0.0075\n",
      "Epoch 15/1000\n",
      "152/152 [==============================] - 6s 39ms/step - loss: 3.0003e-04 - MAE: 0.0073\n",
      "Epoch 16/1000\n",
      "152/152 [==============================] - 7s 44ms/step - loss: 2.9936e-04 - MAE: 0.0085\n",
      "Epoch 17/1000\n",
      "152/152 [==============================] - 10s 68ms/step - loss: 3.1538e-04 - MAE: 0.0079\n",
      "Epoch 18/1000\n",
      "152/152 [==============================] - 8s 56ms/step - loss: 3.0783e-04 - MAE: 0.0078\n",
      "Epoch 19/1000\n",
      "152/152 [==============================] - 7s 47ms/step - loss: 2.8345e-04 - MAE: 0.0072\n",
      "Epoch 20/1000\n",
      "152/152 [==============================] - 7s 44ms/step - loss: 3.0546e-04 - MAE: 0.0086\n",
      "Epoch 21/1000\n",
      "152/152 [==============================] - 6s 42ms/step - loss: 2.8508e-04 - MAE: 0.0078\n",
      "Epoch 22/1000\n",
      "152/152 [==============================] - 6s 40ms/step - loss: 2.5508e-04 - MAE: 0.0072\n",
      "Epoch 23/1000\n",
      "152/152 [==============================] - 6s 39ms/step - loss: 2.7039e-04 - MAE: 0.0076\n",
      "Epoch 24/1000\n",
      "152/152 [==============================] - 6s 37ms/step - loss: 2.6122e-04 - MAE: 0.0074\n",
      "Epoch 25/1000\n",
      "152/152 [==============================] - 7s 45ms/step - loss: 2.7175e-04 - MAE: 0.0076\n",
      "Epoch 26/1000\n",
      "152/152 [==============================] - 7s 44ms/step - loss: 2.0466e-04 - MAE: 0.0056\n",
      "Epoch 27/1000\n",
      "152/152 [==============================] - 5s 36ms/step - loss: 3.0821e-04 - MAE: 0.0090\n",
      "Epoch 28/1000\n",
      "152/152 [==============================] - 6s 38ms/step - loss: 3.4795e-04 - MAE: 0.0090\n",
      "Epoch 29/1000\n",
      "152/152 [==============================] - 5s 33ms/step - loss: 2.7363e-04 - MAE: 0.0076\n",
      "Epoch 30/1000\n",
      "152/152 [==============================] - 5s 34ms/step - loss: 2.5593e-04 - MAE: 0.0072\n",
      "Epoch 31/1000\n",
      "152/152 [==============================] - 5s 33ms/step - loss: 2.2350e-04 - MAE: 0.0066\n",
      "Epoch 32/1000\n",
      "152/152 [==============================] - 5s 33ms/step - loss: 2.7626e-04 - MAE: 0.0075\n",
      "Epoch 33/1000\n",
      "152/152 [==============================] - 5s 36ms/step - loss: 2.7198e-04 - MAE: 0.0075\n",
      "Epoch 34/1000\n",
      "152/152 [==============================] - 6s 39ms/step - loss: 2.4976e-04 - MAE: 0.0072\n",
      "Epoch 35/1000\n",
      "152/152 [==============================] - 6s 40ms/step - loss: 2.6517e-04 - MAE: 0.0074\n",
      "Epoch 36/1000\n",
      "152/152 [==============================] - 6s 42ms/step - loss: 2.7354e-04 - MAE: 0.0075\n"
     ]
    },
    {
     "data": {
      "text/plain": [
       "<keras.callbacks.History at 0x2a3acbd4a90>"
      ]
     },
     "execution_count": 27,
     "metadata": {},
     "output_type": "execute_result"
    }
   ],
   "source": [
    "# model.fit(x_train, y_train, batch_size=1,steps_per_epoch=500, epochs=50)\n",
    "from keras.callbacks import EarlyStopping\n",
    "\n",
    "# Define the early stopping criteria\n",
    "early_stop = EarlyStopping(monitor='loss', patience=10, restore_best_weights=True)\n",
    "\n",
    "# Fit the model\n",
    "model.fit(x_train, y_train, batch_size=32, epochs=1000, callbacks=[early_stop])"
   ]
  },
  {
   "cell_type": "code",
   "execution_count": 28,
   "metadata": {},
   "outputs": [
    {
     "name": "stdout",
     "output_type": "stream",
     "text": [
      "Epoch 1/1000\n",
      "152/152 [==============================] - 19s 66ms/step - loss: 0.0586 - MAE: 0.1804\n",
      "Epoch 2/1000\n",
      "152/152 [==============================] - 10s 64ms/step - loss: 0.0569 - MAE: 0.1787\n",
      "Epoch 3/1000\n",
      "152/152 [==============================] - 9s 59ms/step - loss: 0.0564 - MAE: 0.1795\n",
      "Epoch 4/1000\n",
      "152/152 [==============================] - 9s 60ms/step - loss: 0.0565 - MAE: 0.1788\n",
      "Epoch 5/1000\n",
      "152/152 [==============================] - 9s 59ms/step - loss: 0.0563 - MAE: 0.1792\n",
      "Epoch 6/1000\n",
      "152/152 [==============================] - 9s 61ms/step - loss: 0.0563 - MAE: 0.1787\n",
      "Epoch 7/1000\n",
      "152/152 [==============================] - 9s 60ms/step - loss: 0.0563 - MAE: 0.1795\n",
      "Epoch 8/1000\n",
      "152/152 [==============================] - 10s 63ms/step - loss: 0.0562 - MAE: 0.1783\n",
      "Epoch 9/1000\n",
      "152/152 [==============================] - 9s 59ms/step - loss: 0.0562 - MAE: 0.1793\n",
      "Epoch 10/1000\n",
      "152/152 [==============================] - 9s 59ms/step - loss: 0.0562 - MAE: 0.1791\n",
      "Epoch 11/1000\n",
      "152/152 [==============================] - 9s 59ms/step - loss: 0.0562 - MAE: 0.1791\n",
      "Epoch 12/1000\n",
      "152/152 [==============================] - 10s 68ms/step - loss: 0.0562 - MAE: 0.1786\n",
      "Epoch 13/1000\n",
      "152/152 [==============================] - 9s 62ms/step - loss: 0.0562 - MAE: 0.1796\n",
      "Epoch 14/1000\n",
      "152/152 [==============================] - 9s 60ms/step - loss: 0.0562 - MAE: 0.1788\n",
      "Epoch 15/1000\n",
      "152/152 [==============================] - 9s 61ms/step - loss: 0.0562 - MAE: 0.1794\n",
      "Epoch 16/1000\n",
      "152/152 [==============================] - 9s 61ms/step - loss: 0.0562 - MAE: 0.1788\n",
      "Epoch 17/1000\n",
      "152/152 [==============================] - 10s 64ms/step - loss: 0.0561 - MAE: 0.1794\n",
      "Epoch 18/1000\n",
      "152/152 [==============================] - 9s 62ms/step - loss: 0.0561 - MAE: 0.1786\n",
      "Epoch 19/1000\n",
      "152/152 [==============================] - 9s 61ms/step - loss: 0.0561 - MAE: 0.1796\n",
      "Epoch 20/1000\n",
      "152/152 [==============================] - 9s 62ms/step - loss: 0.0561 - MAE: 0.1789\n",
      "Epoch 21/1000\n",
      "152/152 [==============================] - 10s 65ms/step - loss: 0.0562 - MAE: 0.1789\n",
      "Epoch 22/1000\n",
      "152/152 [==============================] - 9s 60ms/step - loss: 0.0561 - MAE: 0.1789\n",
      "Epoch 23/1000\n",
      "152/152 [==============================] - 9s 62ms/step - loss: 0.0561 - MAE: 0.1792\n",
      "Epoch 24/1000\n",
      "152/152 [==============================] - 9s 62ms/step - loss: 0.0561 - MAE: 0.1791\n",
      "Epoch 25/1000\n",
      "152/152 [==============================] - 10s 64ms/step - loss: 0.0561 - MAE: 0.1787\n",
      "Epoch 26/1000\n",
      "152/152 [==============================] - 10s 65ms/step - loss: 0.0561 - MAE: 0.1791\n",
      "Epoch 27/1000\n",
      "152/152 [==============================] - 9s 61ms/step - loss: 0.0560 - MAE: 0.1790\n",
      "Epoch 28/1000\n",
      "152/152 [==============================] - 9s 62ms/step - loss: 0.0561 - MAE: 0.1790\n",
      "Epoch 29/1000\n",
      "152/152 [==============================] - 9s 61ms/step - loss: 0.0561 - MAE: 0.1790\n",
      "Epoch 30/1000\n",
      "152/152 [==============================] - 10s 63ms/step - loss: 0.0561 - MAE: 0.1798\n",
      "Epoch 31/1000\n",
      "152/152 [==============================] - 10s 64ms/step - loss: 0.0561 - MAE: 0.1783\n",
      "Epoch 32/1000\n",
      "152/152 [==============================] - 9s 60ms/step - loss: 0.0561 - MAE: 0.1785\n",
      "Epoch 33/1000\n",
      "152/152 [==============================] - 9s 59ms/step - loss: 0.0561 - MAE: 0.1798\n",
      "Epoch 34/1000\n",
      "152/152 [==============================] - 9s 60ms/step - loss: 0.0561 - MAE: 0.1785\n",
      "Epoch 35/1000\n",
      "152/152 [==============================] - 9s 61ms/step - loss: 0.0561 - MAE: 0.1793\n",
      "Epoch 36/1000\n",
      "152/152 [==============================] - 10s 64ms/step - loss: 0.0561 - MAE: 0.1788\n",
      "Epoch 37/1000\n",
      "152/152 [==============================] - 9s 61ms/step - loss: 0.0560 - MAE: 0.1794\n"
     ]
    },
    {
     "data": {
      "text/plain": [
       "<keras.callbacks.History at 0x2a3baf71ee0>"
      ]
     },
     "execution_count": 28,
     "metadata": {},
     "output_type": "execute_result"
    }
   ],
   "source": [
    "# model.fit(x_train, y_train, batch_size=1,steps_per_epoch=500, epochs=50)\n",
    "from keras.callbacks import EarlyStopping\n",
    "\n",
    "# Define the early stopping criteria\n",
    "early_stop = EarlyStopping(monitor='loss', patience=10, restore_best_weights=True)\n",
    "\n",
    "# Fit the model\n",
    "model2.fit(x_train, y_train, batch_size=32, epochs=1000, callbacks=[early_stop])"
   ]
  },
  {
   "cell_type": "code",
   "execution_count": 29,
   "metadata": {},
   "outputs": [
    {
     "name": "stdout",
     "output_type": "stream",
     "text": [
      "Epoch 1/1000\n",
      "152/152 [==============================] - 14s 52ms/step - loss: 0.0069 - MAE: 0.0450\n",
      "Epoch 2/1000\n",
      "152/152 [==============================] - 8s 50ms/step - loss: 0.0042 - MAE: 0.0373\n",
      "Epoch 3/1000\n",
      "152/152 [==============================] - 8s 50ms/step - loss: 0.0035 - MAE: 0.0324\n",
      "Epoch 4/1000\n",
      "152/152 [==============================] - 8s 51ms/step - loss: 0.0032 - MAE: 0.0307\n",
      "Epoch 5/1000\n",
      "152/152 [==============================] - 8s 56ms/step - loss: 0.0028 - MAE: 0.0292\n",
      "Epoch 6/1000\n",
      "152/152 [==============================] - 9s 56ms/step - loss: 0.0025 - MAE: 0.0275\n",
      "Epoch 7/1000\n",
      "152/152 [==============================] - 7s 49ms/step - loss: 0.0025 - MAE: 0.0280\n",
      "Epoch 8/1000\n",
      "152/152 [==============================] - 8s 51ms/step - loss: 0.0020 - MAE: 0.0253\n",
      "Epoch 9/1000\n",
      "152/152 [==============================] - 7s 48ms/step - loss: 0.0022 - MAE: 0.0265\n",
      "Epoch 10/1000\n",
      "152/152 [==============================] - 7s 48ms/step - loss: 0.0024 - MAE: 0.0271\n",
      "Epoch 11/1000\n",
      "152/152 [==============================] - 7s 48ms/step - loss: 0.0019 - MAE: 0.0251\n",
      "Epoch 12/1000\n",
      "152/152 [==============================] - 7s 48ms/step - loss: 0.0018 - MAE: 0.0247\n",
      "Epoch 13/1000\n",
      "152/152 [==============================] - 8s 51ms/step - loss: 0.0016 - MAE: 0.0229\n",
      "Epoch 14/1000\n",
      "152/152 [==============================] - 9s 58ms/step - loss: 0.0017 - MAE: 0.0236\n",
      "Epoch 15/1000\n",
      "152/152 [==============================] - 8s 51ms/step - loss: 0.0016 - MAE: 0.0235\n",
      "Epoch 16/1000\n",
      "152/152 [==============================] - 8s 50ms/step - loss: 0.0018 - MAE: 0.0242\n",
      "Epoch 17/1000\n",
      "152/152 [==============================] - 8s 52ms/step - loss: 0.0017 - MAE: 0.0244\n",
      "Epoch 18/1000\n",
      "152/152 [==============================] - 7s 49ms/step - loss: 0.0015 - MAE: 0.0232\n",
      "Epoch 19/1000\n",
      "152/152 [==============================] - 8s 51ms/step - loss: 0.0015 - MAE: 0.0227\n",
      "Epoch 20/1000\n",
      "152/152 [==============================] - 8s 50ms/step - loss: 0.0015 - MAE: 0.0225\n",
      "Epoch 21/1000\n",
      "152/152 [==============================] - 8s 52ms/step - loss: 0.0014 - MAE: 0.0227\n",
      "Epoch 22/1000\n",
      "152/152 [==============================] - 8s 51ms/step - loss: 0.0013 - MAE: 0.0220\n",
      "Epoch 23/1000\n",
      "152/152 [==============================] - 8s 51ms/step - loss: 0.0015 - MAE: 0.0230\n",
      "Epoch 24/1000\n",
      "152/152 [==============================] - 8s 51ms/step - loss: 0.0015 - MAE: 0.0233\n",
      "Epoch 25/1000\n",
      "152/152 [==============================] - 8s 51ms/step - loss: 0.0013 - MAE: 0.0220\n",
      "Epoch 26/1000\n",
      "152/152 [==============================] - 8s 50ms/step - loss: 0.0015 - MAE: 0.0230\n",
      "Epoch 27/1000\n",
      "152/152 [==============================] - 8s 51ms/step - loss: 0.0014 - MAE: 0.0223\n",
      "Epoch 28/1000\n",
      "152/152 [==============================] - 8s 53ms/step - loss: 0.0014 - MAE: 0.0227\n",
      "Epoch 29/1000\n",
      "152/152 [==============================] - 8s 52ms/step - loss: 0.0014 - MAE: 0.0222\n",
      "Epoch 30/1000\n",
      "152/152 [==============================] - 7s 49ms/step - loss: 0.0013 - MAE: 0.0221\n",
      "Epoch 31/1000\n",
      "152/152 [==============================] - 8s 55ms/step - loss: 0.0013 - MAE: 0.0220\n",
      "Epoch 32/1000\n",
      "152/152 [==============================] - 8s 52ms/step - loss: 0.0012 - MAE: 0.0209\n",
      "Epoch 33/1000\n",
      "152/152 [==============================] - 8s 51ms/step - loss: 0.0014 - MAE: 0.0221\n",
      "Epoch 34/1000\n",
      "152/152 [==============================] - 8s 50ms/step - loss: 0.0013 - MAE: 0.0216\n",
      "Epoch 35/1000\n",
      "152/152 [==============================] - 8s 51ms/step - loss: 0.0012 - MAE: 0.0216\n",
      "Epoch 36/1000\n",
      "152/152 [==============================] - 8s 50ms/step - loss: 0.0011 - MAE: 0.0206\n",
      "Epoch 37/1000\n",
      "152/152 [==============================] - 8s 51ms/step - loss: 0.0012 - MAE: 0.0211\n",
      "Epoch 38/1000\n",
      "152/152 [==============================] - 8s 53ms/step - loss: 0.0011 - MAE: 0.0210\n",
      "Epoch 39/1000\n",
      "152/152 [==============================] - 8s 51ms/step - loss: 0.0011 - MAE: 0.0209\n",
      "Epoch 40/1000\n",
      "152/152 [==============================] - 8s 51ms/step - loss: 0.0012 - MAE: 0.0215\n",
      "Epoch 41/1000\n",
      "152/152 [==============================] - 8s 51ms/step - loss: 0.0012 - MAE: 0.0207\n",
      "Epoch 42/1000\n",
      "152/152 [==============================] - 8s 51ms/step - loss: 0.0011 - MAE: 0.0203\n",
      "Epoch 43/1000\n",
      "152/152 [==============================] - 7s 49ms/step - loss: 0.0011 - MAE: 0.0207\n",
      "Epoch 44/1000\n",
      "152/152 [==============================] - 8s 53ms/step - loss: 0.0011 - MAE: 0.0204\n",
      "Epoch 45/1000\n",
      "152/152 [==============================] - 8s 52ms/step - loss: 0.0012 - MAE: 0.0222\n",
      "Epoch 46/1000\n",
      "152/152 [==============================] - 8s 51ms/step - loss: 0.0012 - MAE: 0.0209\n",
      "Epoch 47/1000\n",
      "152/152 [==============================] - 8s 52ms/step - loss: 0.0011 - MAE: 0.0203\n",
      "Epoch 48/1000\n",
      "152/152 [==============================] - 8s 52ms/step - loss: 0.0011 - MAE: 0.0212\n",
      "Epoch 49/1000\n",
      "152/152 [==============================] - 9s 60ms/step - loss: 0.0012 - MAE: 0.0212\n",
      "Epoch 50/1000\n",
      "152/152 [==============================] - 8s 55ms/step - loss: 0.0010 - MAE: 0.0200\n",
      "Epoch 51/1000\n",
      "152/152 [==============================] - 8s 53ms/step - loss: 0.0010 - MAE: 0.0198\n",
      "Epoch 52/1000\n",
      "152/152 [==============================] - 8s 52ms/step - loss: 9.9180e-04 - MAE: 0.0199\n",
      "Epoch 53/1000\n",
      "152/152 [==============================] - 8s 52ms/step - loss: 0.0010 - MAE: 0.0199\n",
      "Epoch 54/1000\n",
      "152/152 [==============================] - 8s 52ms/step - loss: 0.0011 - MAE: 0.0206\n",
      "Epoch 55/1000\n",
      "152/152 [==============================] - 9s 58ms/step - loss: 9.8570e-04 - MAE: 0.0192\n",
      "Epoch 56/1000\n",
      "152/152 [==============================] - 8s 53ms/step - loss: 0.0010 - MAE: 0.0199\n",
      "Epoch 57/1000\n",
      "152/152 [==============================] - 8s 52ms/step - loss: 0.0011 - MAE: 0.0205\n",
      "Epoch 58/1000\n",
      "152/152 [==============================] - 8s 50ms/step - loss: 0.0012 - MAE: 0.0214\n",
      "Epoch 59/1000\n",
      "152/152 [==============================] - 8s 55ms/step - loss: 0.0011 - MAE: 0.0204\n",
      "Epoch 60/1000\n",
      "152/152 [==============================] - 8s 51ms/step - loss: 0.0011 - MAE: 0.0207\n",
      "Epoch 61/1000\n",
      "152/152 [==============================] - 8s 51ms/step - loss: 0.0010 - MAE: 0.0199\n",
      "Epoch 62/1000\n",
      "152/152 [==============================] - 7s 49ms/step - loss: 0.0013 - MAE: 0.0217\n",
      "Epoch 63/1000\n",
      "152/152 [==============================] - 7s 49ms/step - loss: 0.0011 - MAE: 0.0201\n",
      "Epoch 64/1000\n",
      "152/152 [==============================] - 7s 48ms/step - loss: 0.0011 - MAE: 0.0208\n",
      "Epoch 65/1000\n",
      "152/152 [==============================] - 8s 50ms/step - loss: 0.0011 - MAE: 0.0200\n"
     ]
    },
    {
     "data": {
      "text/plain": [
       "<keras.callbacks.History at 0x2a40a8ce160>"
      ]
     },
     "execution_count": 29,
     "metadata": {},
     "output_type": "execute_result"
    }
   ],
   "source": [
    "# model.fit(x_train, y_train, batch_size=1,steps_per_epoch=500, epochs=50)\n",
    "from keras.callbacks import EarlyStopping\n",
    "\n",
    "# Define the early stopping criteria\n",
    "early_stop = EarlyStopping(monitor='loss', patience=10, restore_best_weights=True)\n",
    "\n",
    "# Fit the model\n",
    "model3.fit(x_train, y_train, batch_size=32, epochs=1000, callbacks=[early_stop])"
   ]
  },
  {
   "cell_type": "code",
   "execution_count": 30,
   "metadata": {},
   "outputs": [
    {
     "name": "stdout",
     "output_type": "stream",
     "text": [
      "Epoch 1/1000\n",
      "152/152 [==============================] - 22s 79ms/step - loss: 0.2305 - MAE: 0.3711\n",
      "Epoch 2/1000\n",
      "152/152 [==============================] - 13s 85ms/step - loss: 0.1059 - MAE: 0.2544\n",
      "Epoch 3/1000\n",
      "152/152 [==============================] - 14s 89ms/step - loss: 0.0809 - MAE: 0.2203\n",
      "Epoch 4/1000\n",
      "152/152 [==============================] - 13s 85ms/step - loss: 0.0697 - MAE: 0.2034\n",
      "Epoch 5/1000\n",
      "152/152 [==============================] - 12s 82ms/step - loss: 0.0651 - MAE: 0.1951\n",
      "Epoch 6/1000\n",
      "152/152 [==============================] - 12s 80ms/step - loss: 0.0617 - MAE: 0.1893\n",
      "Epoch 7/1000\n",
      "152/152 [==============================] - 12s 79ms/step - loss: 0.0600 - MAE: 0.1858\n",
      "Epoch 8/1000\n",
      "152/152 [==============================] - 13s 86ms/step - loss: 0.0589 - MAE: 0.1835\n",
      "Epoch 9/1000\n",
      "152/152 [==============================] - 13s 87ms/step - loss: 0.0580 - MAE: 0.1822\n",
      "Epoch 10/1000\n",
      "152/152 [==============================] - 15s 98ms/step - loss: 0.0576 - MAE: 0.1816\n",
      "Epoch 11/1000\n",
      "152/152 [==============================] - 16s 106ms/step - loss: 0.0573 - MAE: 0.1807\n",
      "Epoch 12/1000\n",
      "152/152 [==============================] - 14s 89ms/step - loss: 0.0571 - MAE: 0.1801\n",
      "Epoch 13/1000\n",
      "152/152 [==============================] - 14s 91ms/step - loss: 0.0568 - MAE: 0.1803\n",
      "Epoch 14/1000\n",
      "152/152 [==============================] - 12s 81ms/step - loss: 0.0567 - MAE: 0.1795\n",
      "Epoch 15/1000\n",
      "152/152 [==============================] - 12s 81ms/step - loss: 0.0564 - MAE: 0.1793\n",
      "Epoch 16/1000\n",
      "152/152 [==============================] - 12s 79ms/step - loss: 0.0566 - MAE: 0.1797\n",
      "Epoch 17/1000\n",
      "152/152 [==============================] - 12s 79ms/step - loss: 0.0564 - MAE: 0.1796\n",
      "Epoch 18/1000\n",
      "152/152 [==============================] - 12s 81ms/step - loss: 0.0565 - MAE: 0.1790\n",
      "Epoch 19/1000\n",
      "152/152 [==============================] - 13s 84ms/step - loss: 0.0565 - MAE: 0.1799\n",
      "Epoch 20/1000\n",
      "152/152 [==============================] - 14s 89ms/step - loss: 0.0563 - MAE: 0.1786\n",
      "Epoch 21/1000\n",
      "152/152 [==============================] - 13s 88ms/step - loss: 0.0561 - MAE: 0.1788\n",
      "Epoch 22/1000\n",
      "152/152 [==============================] - 14s 90ms/step - loss: 0.0563 - MAE: 0.1790\n",
      "Epoch 23/1000\n",
      "152/152 [==============================] - 13s 84ms/step - loss: 0.0562 - MAE: 0.1788\n",
      "Epoch 24/1000\n",
      "152/152 [==============================] - 12s 78ms/step - loss: 0.0561 - MAE: 0.1792\n",
      "Epoch 25/1000\n",
      "152/152 [==============================] - 12s 82ms/step - loss: 0.0561 - MAE: 0.1794\n",
      "Epoch 26/1000\n",
      "152/152 [==============================] - 12s 78ms/step - loss: 0.0562 - MAE: 0.1782\n",
      "Epoch 27/1000\n",
      "152/152 [==============================] - 12s 80ms/step - loss: 0.0561 - MAE: 0.1790\n",
      "Epoch 28/1000\n",
      "152/152 [==============================] - 12s 80ms/step - loss: 0.0561 - MAE: 0.1782\n",
      "Epoch 29/1000\n",
      "152/152 [==============================] - 13s 88ms/step - loss: 0.0561 - MAE: 0.1798\n",
      "Epoch 30/1000\n",
      "152/152 [==============================] - 14s 94ms/step - loss: 0.0560 - MAE: 0.1786\n",
      "Epoch 31/1000\n",
      "152/152 [==============================] - 14s 89ms/step - loss: 0.0561 - MAE: 0.1789\n",
      "Epoch 32/1000\n",
      "152/152 [==============================] - 13s 86ms/step - loss: 0.0561 - MAE: 0.1794\n",
      "Epoch 33/1000\n",
      "152/152 [==============================] - 12s 78ms/step - loss: 0.0561 - MAE: 0.1788\n",
      "Epoch 34/1000\n",
      "152/152 [==============================] - 12s 82ms/step - loss: 0.0561 - MAE: 0.1784\n",
      "Epoch 35/1000\n",
      "152/152 [==============================] - 12s 81ms/step - loss: 0.0561 - MAE: 0.1791\n",
      "Epoch 36/1000\n",
      "152/152 [==============================] - 12s 81ms/step - loss: 0.0560 - MAE: 0.1790\n",
      "Epoch 37/1000\n",
      "152/152 [==============================] - 12s 79ms/step - loss: 0.0560 - MAE: 0.1794\n",
      "Epoch 38/1000\n",
      "152/152 [==============================] - 13s 87ms/step - loss: 0.0560 - MAE: 0.1786\n",
      "Epoch 39/1000\n",
      "152/152 [==============================] - 14s 93ms/step - loss: 0.0561 - MAE: 0.1790\n",
      "Epoch 40/1000\n",
      "152/152 [==============================] - 14s 90ms/step - loss: 0.0561 - MAE: 0.1786\n",
      "Epoch 41/1000\n",
      "152/152 [==============================] - 14s 89ms/step - loss: 0.0560 - MAE: 0.1792\n",
      "Epoch 42/1000\n",
      "152/152 [==============================] - 14s 90ms/step - loss: 0.0561 - MAE: 0.1790\n",
      "Epoch 43/1000\n",
      "152/152 [==============================] - 12s 79ms/step - loss: 0.0561 - MAE: 0.1787\n",
      "Epoch 44/1000\n",
      "152/152 [==============================] - 12s 79ms/step - loss: 0.0560 - MAE: 0.1785\n",
      "Epoch 45/1000\n",
      "152/152 [==============================] - 12s 80ms/step - loss: 0.0560 - MAE: 0.1800\n",
      "Epoch 46/1000\n",
      "152/152 [==============================] - 13s 88ms/step - loss: 0.0560 - MAE: 0.1786\n",
      "Epoch 47/1000\n",
      "152/152 [==============================] - 15s 100ms/step - loss: 0.0560 - MAE: 0.1789\n",
      "Epoch 48/1000\n",
      "152/152 [==============================] - 16s 104ms/step - loss: 0.0560 - MAE: 0.1788\n",
      "Epoch 49/1000\n",
      "152/152 [==============================] - 14s 94ms/step - loss: 0.0560 - MAE: 0.1785\n",
      "Epoch 50/1000\n",
      "152/152 [==============================] - 14s 95ms/step - loss: 0.0560 - MAE: 0.1795\n",
      "Epoch 51/1000\n",
      "152/152 [==============================] - 14s 95ms/step - loss: 0.0560 - MAE: 0.1790\n",
      "Epoch 52/1000\n",
      "152/152 [==============================] - 13s 88ms/step - loss: 0.0560 - MAE: 0.1784\n",
      "Epoch 53/1000\n",
      "152/152 [==============================] - 13s 86ms/step - loss: 0.0560 - MAE: 0.1792\n",
      "Epoch 54/1000\n",
      "152/152 [==============================] - 13s 82ms/step - loss: 0.0560 - MAE: 0.1795\n",
      "Epoch 55/1000\n",
      "152/152 [==============================] - 13s 83ms/step - loss: 0.0560 - MAE: 0.1785\n",
      "Epoch 56/1000\n",
      "152/152 [==============================] - 14s 93ms/step - loss: 0.0561 - MAE: 0.1790\n",
      "Epoch 57/1000\n",
      "152/152 [==============================] - 14s 94ms/step - loss: 0.0560 - MAE: 0.1790\n",
      "Epoch 58/1000\n",
      "152/152 [==============================] - 30s 199ms/step - loss: 0.0560 - MAE: 0.1785\n",
      "Epoch 59/1000\n",
      "152/152 [==============================] - 30s 194ms/step - loss: 0.0560 - MAE: 0.1791\n",
      "Epoch 60/1000\n",
      "152/152 [==============================] - 17s 111ms/step - loss: 0.0560 - MAE: 0.1785\n",
      "Epoch 61/1000\n",
      "152/152 [==============================] - 22s 147ms/step - loss: 0.0560 - MAE: 0.1790\n",
      "Epoch 62/1000\n",
      "152/152 [==============================] - 18s 118ms/step - loss: 0.0560 - MAE: 0.1792\n",
      "Epoch 63/1000\n",
      "152/152 [==============================] - 20s 134ms/step - loss: 0.0560 - MAE: 0.1785\n",
      "Epoch 64/1000\n",
      "152/152 [==============================] - 17s 111ms/step - loss: 0.0560 - MAE: 0.1794\n",
      "Epoch 65/1000\n",
      "152/152 [==============================] - 21s 136ms/step - loss: 0.0560 - MAE: 0.1786\n",
      "Epoch 66/1000\n",
      "152/152 [==============================] - 17s 113ms/step - loss: 0.0560 - MAE: 0.1798\n",
      "Epoch 67/1000\n",
      "152/152 [==============================] - 16s 105ms/step - loss: 0.0560 - MAE: 0.1789\n",
      "Epoch 68/1000\n",
      "152/152 [==============================] - 16s 107ms/step - loss: 0.0560 - MAE: 0.1788\n",
      "Epoch 69/1000\n",
      "152/152 [==============================] - 16s 105ms/step - loss: 0.0560 - MAE: 0.1790\n",
      "Epoch 70/1000\n",
      "152/152 [==============================] - 16s 102ms/step - loss: 0.0560 - MAE: 0.1786\n",
      "Epoch 71/1000\n",
      "152/152 [==============================] - 18s 119ms/step - loss: 0.0560 - MAE: 0.1791\n",
      "Epoch 72/1000\n",
      "152/152 [==============================] - 15s 96ms/step - loss: 0.0560 - MAE: 0.1791\n",
      "Epoch 73/1000\n",
      "152/152 [==============================] - 18s 118ms/step - loss: 0.0560 - MAE: 0.1788\n"
     ]
    },
    {
     "data": {
      "text/plain": [
       "<keras.callbacks.History at 0x2a41fae96a0>"
      ]
     },
     "execution_count": 30,
     "metadata": {},
     "output_type": "execute_result"
    }
   ],
   "source": [
    "# model.fit(x_train, y_train, batch_size=1,steps_per_epoch=500, epochs=50)\n",
    "from keras.callbacks import EarlyStopping\n",
    "\n",
    "# Define the early stopping criteria\n",
    "early_stop = EarlyStopping(monitor='loss', patience=10, restore_best_weights=True)\n",
    "\n",
    "# Fit the model\n",
    "model4.fit(x_train, y_train, batch_size=32, epochs=1000, callbacks=[early_stop])"
   ]
  },
  {
   "cell_type": "code",
   "execution_count": 31,
   "metadata": {},
   "outputs": [
    {
     "name": "stdout",
     "output_type": "stream",
     "text": [
      "Index(['Date', 'AAPL_1. open', 'AAPL_4. close', 'MSFT', 'AMZN', 'NVDA', 'SONY',\n",
      "       'BBY', 'COST', 'WMT', 'INTC', 'AMD', 'TXN', 'QCOM', 'T', 'VZ', 'CSCO',\n",
      "       'ADBE', 'ORCL', 'F', 'JNJ', 'PFE', 'GILD', 'AMGN', 'BA', 'GE', 'HON',\n",
      "       'MMM', 'CAT', 'XOM', 'CVX', 'NEE', 'DUK', 'SLB', 'Original_Date'],\n",
      "      dtype='object')\n"
     ]
    }
   ],
   "source": [
    "# Print the last date in the training data\n",
    "print(combined_df.columns)"
   ]
  },
  {
   "cell_type": "code",
   "execution_count": 32,
   "metadata": {},
   "outputs": [],
   "source": [
    "model.save('keras_model.h5')\n",
    "model2.save('keras_model2.h5')\n",
    "model3.save('keras_model3.h5')\n",
    "model4.save('keras_model4.h5')"
   ]
  },
  {
   "cell_type": "code",
   "execution_count": 33,
   "metadata": {},
   "outputs": [
    {
     "data": {
      "text/plain": [
       "array([[204.23],\n",
       "       [200.02],\n",
       "       [201.24],\n",
       "       ...,\n",
       "       [192.25],\n",
       "       [194.03],\n",
       "       [194.35]])"
      ]
     },
     "execution_count": 33,
     "metadata": {},
     "output_type": "execute_result"
    }
   ],
   "source": [
    "test_close.shape\n",
    "test_close"
   ]
  },
  {
   "cell_type": "code",
   "execution_count": 34,
   "metadata": {},
   "outputs": [],
   "source": [
    "past_100_days = pd.DataFrame(train_close[-100:])\n",
    "test_df = pd.DataFrame(test_close)\n",
    "final_df = pd.concat([past_100_days, test_df], ignore_index=True)\n",
    "final_df = scaler.transform(final_df)\n"
   ]
  },
  {
   "cell_type": "code",
   "execution_count": 35,
   "metadata": {},
   "outputs": [
    {
     "data": {
      "text/plain": [
       "(1338, 1)"
      ]
     },
     "execution_count": 35,
     "metadata": {},
     "output_type": "execute_result"
    }
   ],
   "source": [
    "input_data = scaler.fit_transform(final_df)\n",
    "input_data\n",
    "\n",
    "input_data.shape"
   ]
  },
  {
   "cell_type": "code",
   "execution_count": 36,
   "metadata": {},
   "outputs": [
    {
     "name": "stdout",
     "output_type": "stream",
     "text": [
      "(1238, 100, 1)\n",
      "(1238,)\n"
     ]
    }
   ],
   "source": [
    "x_test = []\n",
    "y_test = []\n",
    "for i in range(100, input_data.shape[0]):\n",
    "   x_test.append(input_data[i-100: i])\n",
    "   y_test.append(input_data[i, 0])\n",
    "\n",
    "x_test, y_test = np.array(x_test), np.array(y_test)\n",
    "print(x_test.shape)\n",
    "print(y_test.shape)\n"
   ]
  },
  {
   "cell_type": "markdown",
   "metadata": {},
   "source": [
    "PREDICTIONS WITH THE FIRST MODEL"
   ]
  },
  {
   "cell_type": "code",
   "execution_count": 37,
   "metadata": {},
   "outputs": [
    {
     "name": "stdout",
     "output_type": "stream",
     "text": [
      "39/39 [==============================] - 6s 19ms/step\n"
     ]
    },
    {
     "data": {
      "image/png": "[encoded data removed]",
      "text/plain": [
       "<Figure size 1200x600 with 1 Axes>"
      ]
     },
     "metadata": {},
     "output_type": "display_data"
    }
   ],
   "source": [
    "y_pred = model.predict(x_test)\n",
    "\n",
    "scale_factor = 1/scaler.scale_\n",
    "y_pred = scaler.inverse_transform(y_pred)\n",
    "y_test = scaler.inverse_transform(y_test.reshape(-1, 1))\n",
    "plt.figure(figsize = (12,6))\n",
    "plt.plot(y_test, 'b', label = \"Original Price\")\n",
    "plt.plot(y_pred, 'r', label = \"Predicted Price\")\n",
    "plt.xlabel('Time')\n",
    "plt.ylabel('Price')\n",
    "plt.legend()\n",
    "plt.show()"
   ]
  },
  {
   "cell_type": "code",
   "execution_count": 38,
   "metadata": {},
   "outputs": [
    {
     "name": "stdout",
     "output_type": "stream",
     "text": [
      "The Mean Absolute Error is:  0.010948404921010287\n",
      "The Mean Squared Error is:  0.00045929743677108984\n"
     ]
    }
   ],
   "source": [
    "from sklearn.metrics import mean_absolute_error, mean_squared_error, r2_score\n",
    "\n",
    "mae = mean_absolute_error(y_test, y_pred)\n",
    "mse = mean_squared_error(y_test, y_pred)\n",
    "print(\"The Mean Absolute Error is: \", mae)\n",
    "print(\"The Mean Squared Error is: \", mse)"
   ]
  },
  {
   "cell_type": "code",
   "execution_count": 39,
   "metadata": {},
   "outputs": [
    {
     "name": "stdout",
     "output_type": "stream",
     "text": [
      "39/39 [==============================] - 6s 31ms/step\n"
     ]
    },
    {
     "ename": "ValueError",
     "evalue": "Found array with dim 3. None expected <= 2.",
     "output_type": "error",
     "traceback": [
      "\u001b[1;31m---------------------------------------------------------------------------\u001b[0m",
      "\u001b[1;31mValueError\u001b[0m                                Traceback (most recent call last)",
      "Cell \u001b[1;32mIn[39], line 4\u001b[0m\n\u001b[0;32m      1\u001b[0m y_pred \u001b[38;5;241m=\u001b[39m model2\u001b[38;5;241m.\u001b[39mpredict(x_test)\n\u001b[0;32m      3\u001b[0m scale_factor \u001b[38;5;241m=\u001b[39m \u001b[38;5;241m1\u001b[39m\u001b[38;5;241m/\u001b[39mscaler\u001b[38;5;241m.\u001b[39mscale_\n\u001b[1;32m----> 4\u001b[0m y_pred \u001b[38;5;241m=\u001b[39m \u001b[43mscaler\u001b[49m\u001b[38;5;241;43m.\u001b[39;49m\u001b[43minverse_transform\u001b[49m\u001b[43m(\u001b[49m\u001b[43my_pred\u001b[49m\u001b[43m)\u001b[49m\n\u001b[0;32m      5\u001b[0m y_test \u001b[38;5;241m=\u001b[39m scaler\u001b[38;5;241m.\u001b[39minverse_transform(y_test\u001b[38;5;241m.\u001b[39mreshape(\u001b[38;5;241m-\u001b[39m\u001b[38;5;241m1\u001b[39m, \u001b[38;5;241m1\u001b[39m))\n\u001b[0;32m      6\u001b[0m plt\u001b[38;5;241m.\u001b[39mfigure(figsize \u001b[38;5;241m=\u001b[39m (\u001b[38;5;241m12\u001b[39m,\u001b[38;5;241m6\u001b[39m))\n",
      "File \u001b[1;32mc:\\Users\\User\\miniconda3\\envs\\tf\\lib\\site-packages\\sklearn\\preprocessing\\_data.py:544\u001b[0m, in \u001b[0;36mMinMaxScaler.inverse_transform\u001b[1;34m(self, X)\u001b[0m\n\u001b[0;32m    530\u001b[0m \u001b[38;5;250m\u001b[39m\u001b[38;5;124;03m\"\"\"Undo the scaling of X according to feature_range.\u001b[39;00m\n\u001b[0;32m    531\u001b[0m \n\u001b[0;32m    532\u001b[0m \u001b[38;5;124;03mParameters\u001b[39;00m\n\u001b[1;32m   (...)\u001b[0m\n\u001b[0;32m    540\u001b[0m \u001b[38;5;124;03m    Transformed data.\u001b[39;00m\n\u001b[0;32m    541\u001b[0m \u001b[38;5;124;03m\"\"\"\u001b[39;00m\n\u001b[0;32m    542\u001b[0m check_is_fitted(\u001b[38;5;28mself\u001b[39m)\n\u001b[1;32m--> 544\u001b[0m X \u001b[38;5;241m=\u001b[39m \u001b[43mcheck_array\u001b[49m\u001b[43m(\u001b[49m\n\u001b[0;32m    545\u001b[0m \u001b[43m    \u001b[49m\u001b[43mX\u001b[49m\u001b[43m,\u001b[49m\u001b[43m \u001b[49m\u001b[43mcopy\u001b[49m\u001b[38;5;241;43m=\u001b[39;49m\u001b[38;5;28;43mself\u001b[39;49m\u001b[38;5;241;43m.\u001b[39;49m\u001b[43mcopy\u001b[49m\u001b[43m,\u001b[49m\u001b[43m \u001b[49m\u001b[43mdtype\u001b[49m\u001b[38;5;241;43m=\u001b[39;49m\u001b[43mFLOAT_DTYPES\u001b[49m\u001b[43m,\u001b[49m\u001b[43m \u001b[49m\u001b[43mforce_all_finite\u001b[49m\u001b[38;5;241;43m=\u001b[39;49m\u001b[38;5;124;43m\"\u001b[39;49m\u001b[38;5;124;43mallow-nan\u001b[39;49m\u001b[38;5;124;43m\"\u001b[39;49m\n\u001b[0;32m    546\u001b[0m \u001b[43m\u001b[49m\u001b[43m)\u001b[49m\n\u001b[0;32m    548\u001b[0m X \u001b[38;5;241m-\u001b[39m\u001b[38;5;241m=\u001b[39m \u001b[38;5;28mself\u001b[39m\u001b[38;5;241m.\u001b[39mmin_\n\u001b[0;32m    549\u001b[0m X \u001b[38;5;241m/\u001b[39m\u001b[38;5;241m=\u001b[39m \u001b[38;5;28mself\u001b[39m\u001b[38;5;241m.\u001b[39mscale_\n",
      "File \u001b[1;32mc:\\Users\\User\\miniconda3\\envs\\tf\\lib\\site-packages\\sklearn\\utils\\validation.py:951\u001b[0m, in \u001b[0;36mcheck_array\u001b[1;34m(array, accept_sparse, accept_large_sparse, dtype, order, copy, force_all_finite, ensure_2d, allow_nd, ensure_min_samples, ensure_min_features, estimator, input_name)\u001b[0m\n\u001b[0;32m    946\u001b[0m     \u001b[38;5;28;01mraise\u001b[39;00m \u001b[38;5;167;01mValueError\u001b[39;00m(\n\u001b[0;32m    947\u001b[0m         \u001b[38;5;124m\"\u001b[39m\u001b[38;5;124mdtype=\u001b[39m\u001b[38;5;124m'\u001b[39m\u001b[38;5;124mnumeric\u001b[39m\u001b[38;5;124m'\u001b[39m\u001b[38;5;124m is not compatible with arrays of bytes/strings.\u001b[39m\u001b[38;5;124m\"\u001b[39m\n\u001b[0;32m    948\u001b[0m         \u001b[38;5;124m\"\u001b[39m\u001b[38;5;124mConvert your data to numeric values explicitly instead.\u001b[39m\u001b[38;5;124m\"\u001b[39m\n\u001b[0;32m    949\u001b[0m     )\n\u001b[0;32m    950\u001b[0m \u001b[38;5;28;01mif\u001b[39;00m \u001b[38;5;129;01mnot\u001b[39;00m allow_nd \u001b[38;5;129;01mand\u001b[39;00m array\u001b[38;5;241m.\u001b[39mndim \u001b[38;5;241m>\u001b[39m\u001b[38;5;241m=\u001b[39m \u001b[38;5;241m3\u001b[39m:\n\u001b[1;32m--> 951\u001b[0m     \u001b[38;5;28;01mraise\u001b[39;00m \u001b[38;5;167;01mValueError\u001b[39;00m(\n\u001b[0;32m    952\u001b[0m         \u001b[38;5;124m\"\u001b[39m\u001b[38;5;124mFound array with dim \u001b[39m\u001b[38;5;132;01m%d\u001b[39;00m\u001b[38;5;124m. \u001b[39m\u001b[38;5;132;01m%s\u001b[39;00m\u001b[38;5;124m expected <= 2.\u001b[39m\u001b[38;5;124m\"\u001b[39m\n\u001b[0;32m    953\u001b[0m         \u001b[38;5;241m%\u001b[39m (array\u001b[38;5;241m.\u001b[39mndim, estimator_name)\n\u001b[0;32m    954\u001b[0m     )\n\u001b[0;32m    956\u001b[0m \u001b[38;5;28;01mif\u001b[39;00m force_all_finite:\n\u001b[0;32m    957\u001b[0m     _assert_all_finite(\n\u001b[0;32m    958\u001b[0m         array,\n\u001b[0;32m    959\u001b[0m         input_name\u001b[38;5;241m=\u001b[39minput_name,\n\u001b[0;32m    960\u001b[0m         estimator_name\u001b[38;5;241m=\u001b[39mestimator_name,\n\u001b[0;32m    961\u001b[0m         allow_nan\u001b[38;5;241m=\u001b[39mforce_all_finite \u001b[38;5;241m==\u001b[39m \u001b[38;5;124m\"\u001b[39m\u001b[38;5;124mallow-nan\u001b[39m\u001b[38;5;124m\"\u001b[39m,\n\u001b[0;32m    962\u001b[0m     )\n",
      "\u001b[1;31mValueError\u001b[0m: Found array with dim 3. None expected <= 2."
     ]
    }
   ],
   "source": [
    "y_pred = model2.predict(x_test)\n",
    "\n",
    "scale_factor = 1/scaler.scale_\n",
    "y_pred = scaler.inverse_transform(y_pred)\n",
    "y_test = scaler.inverse_transform(y_test.reshape(-1, 1))\n",
    "plt.figure(figsize = (12,6))\n",
    "plt.plot(y_test, 'b', label = \"Original Price\")\n",
    "plt.plot(y_pred, 'r', label = \"Predicted Price\")\n",
    "plt.xlabel('Time')\n",
    "plt.ylabel('Price')\n",
    "plt.legend()\n",
    "plt.show()"
   ]
  },
  {
   "cell_type": "code",
   "execution_count": null,
   "metadata": {},
   "outputs": [],
   "source": [
    "from sklearn.metrics import mean_absolute_error, mean_squared_error, r2_score\n",
    "\n",
    "mae = mean_absolute_error(y_test, y_pred)\n",
    "mse = mean_squared_error(y_test, y_pred)\n",
    "print(\"The Mean Absolute Error is: \", mae)\n",
    "print(\"The Mean Squared Error is: \", mse)"
   ]
  },
  {
   "cell_type": "code",
   "execution_count": null,
   "metadata": {},
   "outputs": [],
   "source": [
    "y_pred = model3.predict(x_test)\n",
    "\n",
    "scale_factor = 1/scaler.scale_\n",
    "y_pred = scaler.inverse_transform(y_pred)\n",
    "y_test = scaler.inverse_transform(y_test.reshape(-1, 1))\n",
    "plt.figure(figsize = (12,6))\n",
    "plt.plot(y_test, 'b', label = \"Original Price\")\n",
    "plt.plot(y_pred, 'r', label = \"Predicted Price\")\n",
    "plt.xlabel('Time')\n",
    "plt.ylabel('Price')\n",
    "plt.legend()\n",
    "plt.show()"
   ]
  },
  {
   "cell_type": "code",
   "execution_count": null,
   "metadata": {},
   "outputs": [],
   "source": [
    "from sklearn.metrics import mean_absolute_error, mean_squared_error, r2_score\n",
    "\n",
    "mae = mean_absolute_error(y_test, y_pred)\n",
    "mse = mean_squared_error(y_test, y_pred)\n",
    "print(\"The Mean Absolute Error is: \", mae)\n",
    "print(\"The Mean Squared Error is: \", mse)"
   ]
  },
  {
   "cell_type": "code",
   "execution_count": null,
   "metadata": {},
   "outputs": [],
   "source": [
    "y_pred = model4.predict(x_test)\n",
    "\n",
    "scale_factor = 1/scaler.scale_\n",
    "y_pred = scaler.inverse_transform(y_pred)\n",
    "y_test = scaler.inverse_transform(y_test.reshape(-1, 1))\n",
    "plt.figure(figsize = (12,6))\n",
    "plt.plot(y_test, 'b', label = \"Original Price\")\n",
    "plt.plot(y_pred, 'r', label = \"Predicted Price\")\n",
    "plt.xlabel('Time')\n",
    "plt.ylabel('Price')\n",
    "plt.legend()\n",
    "plt.show()"
   ]
  },
  {
   "cell_type": "code",
   "execution_count": null,
   "metadata": {},
   "outputs": [],
   "source": [
    "from sklearn.metrics import mean_absolute_error, mean_squared_error, r2_score\n",
    "\n",
    "mae = mean_absolute_error(y_test, y_pred)\n",
    "mse = mean_squared_error(y_test, y_pred)\n",
    "print(\"The Mean Absolute Error is: \", mae)\n",
    "print(\"The Mean Squared Error is: \", mse)"
   ]
  }
 ],
 "metadata": {
  "kernelspec": {
   "display_name": "Python 3",
   "language": "python",
   "name": "python3"
  },
  "language_info": {
   "codemirror_mode": {
    "name": "ipython",
    "version": 3
   },
   "file_extension": ".py",
   "mimetype": "text/x-python",
   "name": "python",
   "nbconvert_exporter": "python",
   "pygments_lexer": "ipython3",
   "version": "3.8.19"
  }
 },
 "nbformat": 4,
 "nbformat_minor": 2
}
